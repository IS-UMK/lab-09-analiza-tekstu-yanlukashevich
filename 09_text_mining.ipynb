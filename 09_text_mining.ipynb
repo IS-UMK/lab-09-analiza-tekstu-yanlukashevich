{
 "cells": [
  {
   "cell_type": "markdown",
   "metadata": {
    "toc": true
   },
   "source": [
    "<h1>Table of Contents<span class=\"tocSkip\"></span></h1>\n",
    "<div class=\"toc\"><ul class=\"toc-item\"><li><span><a href=\"#Analiza-języka-(text-mining)\" data-toc-modified-id=\"Analiza-języka-(text-mining)-1\"><span class=\"toc-item-num\">1&nbsp;&nbsp;</span>Analiza języka (text mining)</a></span><ul class=\"toc-item\"><li><span><a href=\"#Model-worka-słów-(bag-of-words)\" data-toc-modified-id=\"Model-worka-słów-(bag-of-words)-1.1\"><span class=\"toc-item-num\">1.1&nbsp;&nbsp;</span>Model worka słów (bag-of-words)</a></span></li><li><span><a href=\"#Przykład\" data-toc-modified-id=\"Przykład-1.2\"><span class=\"toc-item-num\">1.2&nbsp;&nbsp;</span>Przykład</a></span></li><li><span><a href=\"#Słownik-słów\" data-toc-modified-id=\"Słownik-słów-1.3\"><span class=\"toc-item-num\">1.3&nbsp;&nbsp;</span>Słownik słów</a></span></li><li><span><a href=\"#Kodowanie-słów\" data-toc-modified-id=\"Kodowanie-słów-1.4\"><span class=\"toc-item-num\">1.4&nbsp;&nbsp;</span>Kodowanie słów</a></span></li><li><span><a href=\"#Usuwanie-nieistotnych-słów-(stop-words)\" data-toc-modified-id=\"Usuwanie-nieistotnych-słów-(stop-words)-1.5\"><span class=\"toc-item-num\">1.5&nbsp;&nbsp;</span>Usuwanie nieistotnych słów (stop words)</a></span></li><li><span><a href=\"#Angielskie-stop-words\" data-toc-modified-id=\"Angielskie-stop-words-1.6\"><span class=\"toc-item-num\">1.6&nbsp;&nbsp;</span>Angielskie stop-words</a></span></li><li><span><a href=\"#Badanie-podobieństwa-dokumentów\" data-toc-modified-id=\"Badanie-podobieństwa-dokumentów-1.7\"><span class=\"toc-item-num\">1.7&nbsp;&nbsp;</span>Badanie podobieństwa dokumentów</a></span></li><li><span><a href=\"#Kosinusowa-miara-podobieństwa\" data-toc-modified-id=\"Kosinusowa-miara-podobieństwa-1.8\"><span class=\"toc-item-num\">1.8&nbsp;&nbsp;</span>Kosinusowa miara podobieństwa</a></span></li><li><span><a href=\"#Grupowanie-dokumentów-(k-means)\" data-toc-modified-id=\"Grupowanie-dokumentów-(k-means)-1.9\"><span class=\"toc-item-num\">1.9&nbsp;&nbsp;</span>Grupowanie dokumentów (k-means)</a></span></li><li><span><a href=\"#Model-worka-słów-w-scikit-learn\" data-toc-modified-id=\"Model-worka-słów-w-scikit-learn-1.10\"><span class=\"toc-item-num\">1.10&nbsp;&nbsp;</span>Model worka słów w scikit-learn</a></span><ul class=\"toc-item\"><li><span><a href=\"#Ćwiczenie\" data-toc-modified-id=\"Ćwiczenie-1.10.1\"><span class=\"toc-item-num\">1.10.1&nbsp;&nbsp;</span>Ćwiczenie</a></span></li></ul></li><li><span><a href=\"#Wektoryzacja-z-ważeniem-częstości-wyrazów-(tf-idf)\" data-toc-modified-id=\"Wektoryzacja-z-ważeniem-częstości-wyrazów-(tf-idf)-1.11\"><span class=\"toc-item-num\">1.11&nbsp;&nbsp;</span>Wektoryzacja z ważeniem częstości wyrazów (tf-idf)</a></span></li><li><span><a href=\"#tf-idf-w-scikit-learn\" data-toc-modified-id=\"tf-idf-w-scikit-learn-1.12\"><span class=\"toc-item-num\">1.12&nbsp;&nbsp;</span>tf-idf w scikit-learn</a></span></li><li><span><a href=\"#Wektoryzacja-za-pomocą-haszowania\" data-toc-modified-id=\"Wektoryzacja-za-pomocą-haszowania-1.13\"><span class=\"toc-item-num\">1.13&nbsp;&nbsp;</span>Wektoryzacja za pomocą haszowania</a></span></li><li><span><a href=\"#n-gramy\" data-toc-modified-id=\"n-gramy-1.14\"><span class=\"toc-item-num\">1.14&nbsp;&nbsp;</span>n-gramy</a></span></li><li><span><a href=\"#n-gramy\" data-toc-modified-id=\"n-gramy-1.15\"><span class=\"toc-item-num\">1.15&nbsp;&nbsp;</span>n-gramy</a></span></li><li><span><a href=\"#Analiza-sentymentów\" data-toc-modified-id=\"Analiza-sentymentów-1.16\"><span class=\"toc-item-num\">1.16&nbsp;&nbsp;</span>Analiza sentymentów</a></span></li><li><span><a href=\"#Dane:-movie-data\" data-toc-modified-id=\"Dane:-movie-data-1.17\"><span class=\"toc-item-num\">1.17&nbsp;&nbsp;</span>Dane: movie data</a></span></li><li><span><a href=\"#Czyszczenie-danych\" data-toc-modified-id=\"Czyszczenie-danych-1.18\"><span class=\"toc-item-num\">1.18&nbsp;&nbsp;</span>Czyszczenie danych</a></span></li><li><span><a href=\"#Przygotowanie-zbioru-treningowego\" data-toc-modified-id=\"Przygotowanie-zbioru-treningowego-1.19\"><span class=\"toc-item-num\">1.19&nbsp;&nbsp;</span>Przygotowanie zbioru treningowego</a></span></li><li><span><a href=\"#Wektoryzacja-dokumnetów\" data-toc-modified-id=\"Wektoryzacja-dokumnetów-1.20\"><span class=\"toc-item-num\">1.20&nbsp;&nbsp;</span>Wektoryzacja dokumnetów</a></span></li><li><span><a href=\"#Model-klasyfikacyjny\" data-toc-modified-id=\"Model-klasyfikacyjny-1.21\"><span class=\"toc-item-num\">1.21&nbsp;&nbsp;</span>Model klasyfikacyjny</a></span><ul class=\"toc-item\"><li><span><a href=\"#Ćwiczenie\" data-toc-modified-id=\"Ćwiczenie-1.21.1\"><span class=\"toc-item-num\">1.21.1&nbsp;&nbsp;</span>Ćwiczenie</a></span></li></ul></li><li><span><a href=\"#Modelowanie-tematów-(bonusowa-zawartość)\" data-toc-modified-id=\"Modelowanie-tematów-(bonusowa-zawartość)-1.22\"><span class=\"toc-item-num\">1.22&nbsp;&nbsp;</span>Modelowanie tematów (bonusowa zawartość)</a></span><ul class=\"toc-item\"><li><span><a href=\"#Dekompozycja-dokumentów-tekstowych-za-pomocą-Latent-Dirichlet-Allocation\" data-toc-modified-id=\"Dekompozycja-dokumentów-tekstowych-za-pomocą-Latent-Dirichlet-Allocation-1.22.1\"><span class=\"toc-item-num\">1.22.1&nbsp;&nbsp;</span>Dekompozycja dokumentów tekstowych za pomocą Latent Dirichlet Allocation</a></span></li><li><span><a href=\"#Algorytm-LDA\" data-toc-modified-id=\"Algorytm-LDA-1.22.2\"><span class=\"toc-item-num\">1.22.2&nbsp;&nbsp;</span>Algorytm LDA</a></span></li><li><span><a href=\"#Przygotowanie-danych\" data-toc-modified-id=\"Przygotowanie-danych-1.22.3\"><span class=\"toc-item-num\">1.22.3&nbsp;&nbsp;</span>Przygotowanie danych</a></span></li><li><span><a href=\"#LDA-w--scikit-learn\" data-toc-modified-id=\"LDA-w--scikit-learn-1.22.4\"><span class=\"toc-item-num\">1.22.4&nbsp;&nbsp;</span>LDA w  scikit-learn</a></span></li><li><span><a href=\"#Tematy-LDA\" data-toc-modified-id=\"Tematy-LDA-1.22.5\"><span class=\"toc-item-num\">1.22.5&nbsp;&nbsp;</span>Tematy LDA</a></span></li></ul></li><li><span><a href=\"#Zadanie:-Wykrywanie-fejków\" data-toc-modified-id=\"Zadanie:-Wykrywanie-fejków-1.23\"><span class=\"toc-item-num\">1.23&nbsp;&nbsp;</span>Zadanie: Wykrywanie fejków</a></span></li></ul></li></ul></div>"
   ]
  },
  {
   "cell_type": "markdown",
   "metadata": {
    "slideshow": {
     "slide_type": "slide"
    }
   },
   "source": [
    "# Analiza języka (text mining)\n",
    "\n",
    "\n",
    "\n",
    "\n",
    "Dane tekstowe wymagają specjalnego przygotowania zanim zaczniemy używać ich do modelowania i przeprowadzania analizy.\n",
    "Tekst należy najpierw odpowiednio oczyścić a słowa muszą zostać zakodowane w postaci numerycznej (jako liczby całkowite lub zmiennoprzecinkowe), aby można je było wykorzystać jako dane wejściowe do algorytmu klasyfikacji lub klasteryzacji.\n",
    "\n",
    "W poniższym notatniku znajduje się demonstracja następujących zagadnień związanych z analizą języka naturalnego:\n",
    "* **model worka słów** (bag-of-words) - metoda reprezentacji dokumentów w postaci macierzy częstości występowania słów\n",
    "* **klasyfikacja dokumentów**, na przykładzie **analizy sentymentów** w recenzjach filmowych\n",
    "* **modelowanie tematów** - wykrywanie wspólnych tematów w tekstach i **grupowanie dokumentów**  tematycznie \n"
   ]
  },
  {
   "cell_type": "markdown",
   "metadata": {
    "slideshow": {
     "slide_type": "slide"
    }
   },
   "source": [
    "## Model worka słów (bag-of-words)\n",
    "\n",
    "Model worka słów jest uproszczoną reprezentacją tekstu stosowaną w przetwarzaniu języka naturalnego i wyszukiwaniu informacji. Pozwala utworzyć zestaw cech charakteryzujących analizowany fragment tekstu (dokument). \n",
    "Metoda ta zamienia tekst na wektor zawierający częstość występowania słów. Reprezentacja taka zawiera więc informację o tym czy dane słowo wystąpiło w dokumencie, jednak nie mamy tu informacji o gramatyce oraz kolejności słów. Słowa dokumentu są \"wrzucone do worka\", stąd nazwa metody."
   ]
  },
  {
   "cell_type": "markdown",
   "metadata": {},
   "source": [
    "<div><center>\n",
    "<img src=\"attachment:image.png\" width=\"500\"/>\n",
    "</center></div>"
   ]
  },
  {
   "cell_type": "markdown",
   "metadata": {
    "slideshow": {
     "slide_type": "slide"
    }
   },
   "source": [
    "## Przykład \n",
    "Spróbujmy prześledzić tworzenie reprezentacji wektorowej dokumentów na prostym przykładzie. \n",
    "Poniżej znajduje się zestaw 7 fragmentów teksu: pierwsze 4 dokumenty tematycznie nawiązują do artykułów na temat interfejsu człowiek-maszyna a ostatnie 3 dotyczą teorii grafów. "
   ]
  },
  {
   "cell_type": "code",
   "execution_count": 2,
   "metadata": {},
   "outputs": [],
   "source": [
    "docs = [\"Human machine interface for Lab ABC computer applications\",\n",
    "        \"A survey of user opinion of computer system response time\",\n",
    "        \"The EPS user interface management system\",\n",
    "        \"System and human system engineering testing of EPS\",\n",
    "        \"The generation of random binary unordered trees\",\n",
    "        \"The intersection graph of paths in trees\",\n",
    "        \"Graph minors A survey\" ]"
   ]
  },
  {
   "cell_type": "markdown",
   "metadata": {
    "slideshow": {
     "slide_type": "slide"
    }
   },
   "source": [
    "## Słownik słów \n",
    "Najpierw stwórzmy słownik zawierający wszystkie słowa w dokumencie. Przy okazji zliczmy ich częstotliwość występowania.\n",
    "Słowa pisane wielką i małą literą traktujemy jednakowo. \n"
   ]
  },
  {
   "cell_type": "code",
   "execution_count": 3,
   "metadata": {},
   "outputs": [
    {
     "name": "stdout",
     "output_type": "stream",
     "text": [
      "Liczba unikatowych słów: 32\n",
      "human machine interface for lab abc computer applications a survey of user opinion system response time the eps management and engineering testing generation random binary unordered trees intersection graph paths in minors\n"
     ]
    }
   ],
   "source": [
    "# zamieniamy wszystki wielkie litery na małe \n",
    "docs = [d.lower() for d in docs]\n",
    "\n",
    "# tworzymy słownik, który będzie zawierał pary (słowo, ilość wystąpień)\n",
    "vocabulary = {}\n",
    "for doc in docs:\n",
    "    for word in doc.split():\n",
    "        if word not in vocabulary:\n",
    "            vocabulary[word] = 1\n",
    "        else:\n",
    "            vocabulary[word] += 1\n",
    "\n",
    "# klucze słownika to lista unikatowych słów\n",
    "words = vocabulary.keys()\n",
    "            \n",
    "print('Liczba unikatowych słów:',  len(words))\n",
    "print(\" \".join(words))"
   ]
  },
  {
   "cell_type": "markdown",
   "metadata": {
    "slideshow": {
     "slide_type": "slide"
    }
   },
   "source": [
    "## Kodowanie słów\n",
    "Wyrazy ze słownika zakodujmy za pomocą kolejnych liczb całkowitych."
   ]
  },
  {
   "cell_type": "code",
   "execution_count": 4,
   "metadata": {},
   "outputs": [
    {
     "name": "stdout",
     "output_type": "stream",
     "text": [
      "0 human\n",
      "1 machine\n",
      "2 interface\n",
      "3 for\n",
      "4 lab\n",
      "5 abc\n",
      "6 computer\n",
      "7 applications\n",
      "8 a\n",
      "9 survey\n",
      "10 of\n",
      "11 user\n",
      "12 opinion\n",
      "13 system\n",
      "14 response\n",
      "15 time\n",
      "16 the\n",
      "17 eps\n",
      "18 management\n",
      "19 and\n",
      "20 engineering\n",
      "21 testing\n",
      "22 generation\n",
      "23 random\n",
      "24 binary\n",
      "25 unordered\n",
      "26 trees\n",
      "27 intersection\n",
      "28 graph\n",
      "29 paths\n",
      "30 in\n",
      "31 minors\n"
     ]
    }
   ],
   "source": [
    "# słownik przechowujący pary (słowo, index)\n",
    "word2id = {}\n",
    "\n",
    "for i, word in enumerate(words):\n",
    "    word2id[word] = i\n",
    "    print(word2id[word], word)\n",
    "    "
   ]
  },
  {
   "cell_type": "markdown",
   "metadata": {
    "slideshow": {
     "slide_type": "slide"
    }
   },
   "source": [
    "Utwórzmy teraz worek słów. Każdy dokument będzie wektorem o długości równej wielkości słownika. Wartości atrybutów to ilość wystąpień słowa w dokumencie. Zbiór dokumentów tworzy macierz - zbiór treningowy.  "
   ]
  },
  {
   "cell_type": "code",
   "execution_count": 5,
   "metadata": {
    "scrolled": true
   },
   "outputs": [
    {
     "name": "stdout",
     "output_type": "stream",
     "text": [
      "[[1 1 1 1 1 1 1 1 0 0 0 0 0 0 0 0 0 0 0 0 0 0 0 0 0 0 0 0 0 0 0 0]\n",
      " [0 0 0 0 0 0 1 0 1 1 2 1 1 1 1 1 0 0 0 0 0 0 0 0 0 0 0 0 0 0 0 0]\n",
      " [0 0 1 0 0 0 0 0 0 0 0 1 0 1 0 0 1 1 1 0 0 0 0 0 0 0 0 0 0 0 0 0]\n",
      " [1 0 0 0 0 0 0 0 0 0 1 0 0 2 0 0 0 1 0 1 1 1 0 0 0 0 0 0 0 0 0 0]\n",
      " [0 0 0 0 0 0 0 0 0 0 1 0 0 0 0 0 1 0 0 0 0 0 1 1 1 1 1 0 0 0 0 0]\n",
      " [0 0 0 0 0 0 0 0 0 0 1 0 0 0 0 0 1 0 0 0 0 0 0 0 0 0 1 1 1 1 1 0]\n",
      " [0 0 0 0 0 0 0 0 1 1 0 0 0 0 0 0 0 0 0 0 0 0 0 0 0 0 0 0 1 0 0 1]]\n"
     ]
    }
   ],
   "source": [
    "import numpy as np\n",
    "\n",
    "bag = np.zeros( (len(docs), len(words)), dtype=np.int32)\n",
    "\n",
    "for i, doc in enumerate(docs):\n",
    "    for word in doc.split():\n",
    "        bag[i, word2id[word]] += 1\n",
    "            \n",
    "print(bag)"
   ]
  },
  {
   "cell_type": "markdown",
   "metadata": {
    "slideshow": {
     "slide_type": "slide"
    }
   },
   "source": [
    "Poniżej znajduje się wizualizacja zawartości worka słów, która pozwoli lepiej zrozumieć zasadę wektoryzowania dokumentów."
   ]
  },
  {
   "cell_type": "code",
   "execution_count": 6,
   "metadata": {},
   "outputs": [
    {
     "data": {
      "image/png": "[encoded data removed]",
      "text/plain": [
       "<Figure size 1280x280 with 2 Axes>"
      ]
     },
     "metadata": {},
     "output_type": "display_data"
    }
   ],
   "source": [
    "import matplotlib.pyplot as plt\n",
    "import matplotlib\n",
    "matplotlib.rcParams['figure.dpi'] = 80\n",
    "\n",
    "plt.matshow(bag, cmap='Reds')\n",
    "\n",
    "plt.xticks(range(len(words)), words, rotation='vertical')\n",
    "plt.colorbar()\n",
    "plt.show()"
   ]
  },
  {
   "cell_type": "markdown",
   "metadata": {},
   "source": [
    "Widać, że macierz ta jest rzadka, tzn. większość wartości jest zerowa. W praktycznych zastosowaniach, gdy mamy do czynienia z dużymi słownikami, zawierającymi tysiące unikatowych wyrazów, tylko znikoma ilość elementów będzie różna od zera. \n",
    "\n",
    "Każdy wiersz reprezentuje zdanie lub dokument scharakteryzowany częstością występowania wyrazów w tym dokumencie. Dokumenty podobne do siebie powinny posiadać podobne zestawy słów o zbliżonej częstości ich występowania. Dokumenty zawierające odmienne treści będą zawierały różne, charakterystyczne  dla danego zagadnienia słowa.\n",
    "\n",
    "Tego typu macierz może posłużyć jako zbiór treningowy do wielu metod analizy danych, np. do klasyfikacji dokumentów lub wyszukiwania i grupowania podobnych dokumentów. "
   ]
  },
  {
   "cell_type": "markdown",
   "metadata": {
    "slideshow": {
     "slide_type": "slide"
    }
   },
   "source": [
    "## Usuwanie nieistotnych słów (stop words)\n",
    "\n",
    "Zobaczmy teraz jak wygląda częstość występowania wszystkich słów w analizowanym tekście."
   ]
  },
  {
   "cell_type": "code",
   "execution_count": 7,
   "metadata": {},
   "outputs": [
    {
     "name": "stderr",
     "output_type": "stream",
     "text": [
      "C:\\Users\\yanlu\\AppData\\Local\\Temp\\ipykernel_20516\\1621465335.py:9: UserWarning: set_ticklabels() should only be used with a fixed number of ticks, i.e. after set_ticks() or using a FixedLocator.\n",
      "  bar.set_xticklabels(bar.get_xticklabels(), rotation=90);\n"
     ]
    },
    {
     "data": {
      "image/png": "[encoded data removed]",
      "text/plain": [
       "<Figure size 1200x400 with 1 Axes>"
      ]
     },
     "metadata": {},
     "output_type": "display_data"
    }
   ],
   "source": [
    "import pandas as pd\n",
    "import seaborn as sb\n",
    "\n",
    "wfd = pd.DataFrame( { 'word': vocabulary.keys(), 'n': vocabulary.values()  })\n",
    "\n",
    "wdf_sorted = wfd.sort_values(by=['n'], ascending=False)\n",
    "plt.figure(figsize=(15,5))\n",
    "bar = sb.barplot(x=\"word\", y=\"n\", data=wdf_sorted)\n",
    "bar.set_xticklabels(bar.get_xticklabels(), rotation=90);"
   ]
  },
  {
   "cell_type": "markdown",
   "metadata": {},
   "source": [
    "\n",
    "Najczęściej występuje słowo `of`. Niewiele mniej częsty okazał się wyraz `the`. Jeżeli wyraz występuje w wielu dokumentach to znaczy, że nie jest pomocny w rozróżnianiu tych dokumentów. Dlatego, powszechnie występujące wyrazy usuwa się z analizy. Dodatkowo słowa takie jak np. `the` lub `a` nie mają semantycznego znaczenia i również powinniśmy je usunąć."
   ]
  },
  {
   "cell_type": "markdown",
   "metadata": {
    "slideshow": {
     "slide_type": "slide"
    }
   },
   "source": [
    "## Angielskie stop-words\n",
    "\n",
    "Poniżej znajduje się lista słów z języka angielskiego, które zwyczajowo usuwa się przy tworzeniu worka słów.\n"
   ]
  },
  {
   "cell_type": "code",
   "execution_count": 8,
   "metadata": {},
   "outputs": [],
   "source": [
    "stop_words =['i','me','my','myself','we','our','ours','ourselves','you','your','yours','yourself',\n",
    "            'yourselves','he','him','his','himself','she','her','hers','herself','it','its','itself',\n",
    "            'they','them','their','theirs','themselves','what','which','who','whom','this','that',\n",
    "            'these','those','am','is','are','was','were','be','been','being','have','has','had',\n",
    "            'having','do','does','did','doing','a','an','the','and','but','if','or','because','as',\n",
    "            'until','while','of','at','by','for','with','about','against','between','into','through',\n",
    "            'during','before','after','above','below','to','from','up','down','in','out','on','off',\n",
    "            'over','under','again','further','then','once','here','there','when','where','why','how',\n",
    "            'all','any','both','each','few','more','most','other','some','such','no','nor','not',\n",
    "            'only','own','same','so','than','too','very','s','t','can','will','just','don','should',\n",
    "            'now','uses','use','using','used','one','also']"
   ]
  },
  {
   "cell_type": "markdown",
   "metadata": {
    "slideshow": {
     "slide_type": "slide"
    }
   },
   "source": [
    "Utwórzmy jeszcze raz model worka słów pozbywając się tych wyrazów."
   ]
  },
  {
   "cell_type": "code",
   "execution_count": 9,
   "metadata": {},
   "outputs": [
    {
     "name": "stdout",
     "output_type": "stream",
     "text": [
      "Liczba unikatowych słow: 26\n",
      "[[0 1 1 1 1 0 0 0 0 0 0 0 0 0 0 0 0 0 0 0 1 0 0 1 1 0]\n",
      " [0 1 0 0 0 1 0 0 0 0 0 1 0 1 0 0 1 0 1 0 0 0 1 0 0 0]\n",
      " [0 0 0 0 0 1 0 0 0 1 0 0 1 1 0 0 0 0 0 0 0 0 0 1 0 0]\n",
      " [0 0 1 0 0 2 1 0 0 0 0 0 1 0 0 0 0 1 0 0 0 0 0 0 0 0]\n",
      " [0 0 0 0 0 0 0 1 1 0 0 0 0 0 0 1 0 0 0 1 0 1 0 0 0 0]\n",
      " [1 0 0 0 0 0 0 0 0 0 1 0 0 0 0 0 0 0 0 1 0 0 0 0 0 1]\n",
      " [0 0 0 0 0 0 0 0 0 0 0 0 0 0 1 0 1 0 0 0 0 0 0 0 0 1]]\n"
     ]
    }
   ],
   "source": [
    "words = []\n",
    "for doc in docs:\n",
    "    for word in doc.split():\n",
    "        if word not in stop_words:  # dodajemy tylko słowa, których nie mam na liście stop_words\n",
    "            words.append(word)\n",
    "\n",
    "# zbiór słów\n",
    "words = set(words)\n",
    "\n",
    "print('Liczba unikatowych słow:',  len(words))\n",
    "\n",
    "# kodowanie słów\n",
    "word2id = dict(zip(words, range(len(words))))\n",
    "\n",
    "# tworzenie worka słow z pominięciem słów nieistotnych\n",
    "bag = np.zeros( (len(docs), len(words)), dtype=np.int32)\n",
    "for i, doc in enumerate(docs):\n",
    "    for word in doc.split():\n",
    "        if word not in stop_words:         \n",
    "            bag[i, word2id[word]] += 1\n",
    "\n",
    "print(bag)"
   ]
  },
  {
   "cell_type": "markdown",
   "metadata": {
    "slideshow": {
     "slide_type": "slide"
    }
   },
   "source": [
    "## Badanie podobieństwa dokumentów\n",
    "Dokumenty zamienione na wektory cech możemy użyć do analizy. \n",
    "Przykładowo, zobaczmy jak wygląda podobieństwo dokumentów . W tym celu możemy policzyć odległość pomiędzy wektorami reprezentującymi dokumenty."
   ]
  },
  {
   "cell_type": "code",
   "execution_count": 10,
   "metadata": {},
   "outputs": [
    {
     "data": {
      "image/png": "[encoded data removed]",
      "text/plain": [
       "<Figure size 384x384 with 2 Axes>"
      ]
     },
     "metadata": {},
     "output_type": "display_data"
    }
   ],
   "source": [
    "from sklearn.metrics import pairwise_distances\n",
    "import matplotlib.pyplot as plt\n",
    "distance_matrix = pairwise_distances(bag, bag)\n",
    "\n",
    "plt.matshow(distance_matrix)\n",
    "plt.colorbar()\n",
    "plt.show()"
   ]
  },
  {
   "cell_type": "markdown",
   "metadata": {
    "slideshow": {
     "slide_type": "-"
    }
   },
   "source": [
    "Każda wartość w macierzy reprezentuje odległość Euklidesową między parą dokumentów $d(\\vec{x},\\vec{y})$.\n",
    "Metryka Euklidesowa nie jest najlepszym wyborem w tym wypadku. Widać, że dokument 0 jest prawie tak samo daleki od wszystkich pozostałych. "
   ]
  },
  {
   "cell_type": "markdown",
   "metadata": {
    "slideshow": {
     "slide_type": "slide"
    }
   },
   "source": [
    "## Kosinusowa miara podobieństwa\n",
    "\n",
    "Do porównywania podobieństwa dokumentów lepiej pasuje metryka kosinusowa równa $1-\\cos(\\vec{x},\\vec{y})$. Dokumenty nie posiadające wspólnych słów będą reprezentowane w worku słów przez wektory ortogonalne, więc kosinus tego kąta wyniesie 0. Dokumenty posiadające zbliżone zestawy słów będą miały kosinus kąta bliski 1, więc odległość kosinusowa tych dokumentów będzie bliska zeru. "
   ]
  },
  {
   "cell_type": "code",
   "execution_count": 11,
   "metadata": {},
   "outputs": [
    {
     "data": {
      "image/png": "[encoded data removed]",
      "text/plain": [
       "<Figure size 384x384 with 2 Axes>"
      ]
     },
     "metadata": {},
     "output_type": "display_data"
    }
   ],
   "source": [
    "distance_matrix = pairwise_distances(bag, bag, metric='cosine')\n",
    "plt.matshow(distance_matrix)\n",
    "plt.colorbar()\n",
    "plt.show()"
   ]
  },
  {
   "cell_type": "markdown",
   "metadata": {},
   "source": [
    "Wyraźnie widać, że pierwsze 4 dokumenty są podobne do siebie i różnią się od dokumentów 4,5,6. Również dokument przedostatni (5) i ostatni (6) zawierają podobne słowa. \n",
    "Kolor żółty oznacza odległość 1 dla par dokumentów, które nie posiadają wspólnych słów."
   ]
  },
  {
   "cell_type": "markdown",
   "metadata": {
    "slideshow": {
     "slide_type": "slide"
    }
   },
   "source": [
    "## Grupowanie dokumentów (k-means)\n",
    "\n",
    "Analiza skupień dokumentów pozwala znaleźć teksty o podobnej tematyce"
   ]
  },
  {
   "cell_type": "code",
   "execution_count": 12,
   "metadata": {},
   "outputs": [
    {
     "name": "stdout",
     "output_type": "stream",
     "text": [
      "[1 1 1 1 0 0 0]\n"
     ]
    },
    {
     "name": "stderr",
     "output_type": "stream",
     "text": [
      "C:\\Program Files\\anaconda3\\Lib\\site-packages\\sklearn\\cluster\\_kmeans.py:1429: UserWarning: KMeans is known to have a memory leak on Windows with MKL, when there are less chunks than available threads. You can avoid it by setting the environment variable OMP_NUM_THREADS=1.\n",
      "  warnings.warn(\n"
     ]
    }
   ],
   "source": [
    "from sklearn.cluster import KMeans\n",
    "\n",
    "kmeans = KMeans(n_clusters=2, n_init=10)\n",
    "kmeans.fit(bag)\n",
    "y = kmeans.predict(bag)\n",
    "print(y)"
   ]
  },
  {
   "cell_type": "markdown",
   "metadata": {
    "slideshow": {
     "slide_type": "slide"
    }
   },
   "source": [
    "## Model worka słów w scikit-learn\n",
    "\n",
    "Pakiet `scikit-learn` pozwala tworzyć worek słów za pomocą obiektu [CountVectorizer](https://scikit-learn.org/stable/modules/generated/sklearn.feature_extraction.text.CountVectorizer.html#sklearn.feature_extraction.text.CountVectorizer).\n",
    "Argument `lowercase=True` automatycznie zamieni duże znaki na małe a `stop_words='english'` odsieje nieistotne słowa z języka angielskiego.  \n",
    "`CountVectorizer` to model transformacji danych, którego dopasowanie do danych treningowych realizowane jest za pomocą metody `fit` lub `fit_transfrom`. "
   ]
  },
  {
   "cell_type": "code",
   "execution_count": 13,
   "metadata": {},
   "outputs": [],
   "source": [
    "import numpy as np\n",
    "from sklearn.feature_extraction.text import CountVectorizer\n",
    "\n",
    "count = CountVectorizer(lowercase=True, stop_words='english')\n",
    "docs = np.array(docs)\n",
    "bag = count.fit_transform(docs)"
   ]
  },
  {
   "cell_type": "markdown",
   "metadata": {
    "slideshow": {
     "slide_type": "slide"
    }
   },
   "source": [
    "Wynikiem działania jest worek słów w postaci macierzy rzadkiej."
   ]
  },
  {
   "cell_type": "code",
   "execution_count": 14,
   "metadata": {},
   "outputs": [
    {
     "name": "stdout",
     "output_type": "stream",
     "text": [
      "Typ zmiennej:  <class 'scipy.sparse._csr.csr_matrix'>\n",
      "  (0, 8)\t1\n",
      "  (0, 12)\t1\n",
      "  (0, 9)\t1\n",
      "  (0, 11)\t1\n",
      "  (0, 0)\t1\n",
      "  (0, 3)\t1\n",
      "  (0, 1)\t1\n",
      "  (1, 3)\t1\n",
      "  (1, 19)\t1\n",
      "  (1, 24)\t1\n",
      "  (1, 15)\t1\n",
      "  (1, 18)\t1\n",
      "  (1, 21)\t1\n",
      "  (2, 9)\t1\n",
      "  (2, 24)\t1\n",
      "  (2, 5)\t1\n",
      "  (2, 13)\t1\n",
      "  (3, 8)\t1\n",
      "  (3, 5)\t1\n",
      "  (3, 4)\t1\n",
      "  (3, 20)\t1\n",
      "  (4, 6)\t1\n",
      "  (4, 17)\t1\n",
      "  (4, 2)\t1\n",
      "  (4, 23)\t1\n",
      "  (4, 22)\t1\n",
      "  (5, 22)\t1\n",
      "  (5, 10)\t1\n",
      "  (5, 7)\t1\n",
      "  (5, 16)\t1\n",
      "  (6, 19)\t1\n",
      "  (6, 7)\t1\n",
      "  (6, 14)\t1\n"
     ]
    }
   ],
   "source": [
    "print('Typ zmiennej: ', type(bag))\n",
    "print(bag)"
   ]
  },
  {
   "cell_type": "markdown",
   "metadata": {},
   "source": [
    "Zobaczmy jak wygląda to w postaci \"gęstej\" macierzy."
   ]
  },
  {
   "cell_type": "code",
   "execution_count": 15,
   "metadata": {},
   "outputs": [
    {
     "name": "stdout",
     "output_type": "stream",
     "text": [
      "[[1 1 0 1 0 0 0 0 1 1 0 1 1 0 0 0 0 0 0 0 0 0 0 0 0]\n",
      " [0 0 0 1 0 0 0 0 0 0 0 0 0 0 0 1 0 0 1 1 0 1 0 0 1]\n",
      " [0 0 0 0 0 1 0 0 0 1 0 0 0 1 0 0 0 0 0 0 0 0 0 0 1]\n",
      " [0 0 0 0 1 1 0 0 1 0 0 0 0 0 0 0 0 0 0 0 1 0 0 0 0]\n",
      " [0 0 1 0 0 0 1 0 0 0 0 0 0 0 0 0 0 1 0 0 0 0 1 1 0]\n",
      " [0 0 0 0 0 0 0 1 0 0 1 0 0 0 0 0 1 0 0 0 0 0 1 0 0]\n",
      " [0 0 0 0 0 0 0 1 0 0 0 0 0 0 1 0 0 0 0 1 0 0 0 0 0]]\n"
     ]
    }
   ],
   "source": [
    "print(bag.toarray())"
   ]
  },
  {
   "cell_type": "markdown",
   "metadata": {
    "slideshow": {
     "slide_type": "slide"
    }
   },
   "source": [
    "Poniższa wizualizacja jeszcze lepiej prezentuje uzyskany worek słów."
   ]
  },
  {
   "cell_type": "code",
   "execution_count": 16,
   "metadata": {},
   "outputs": [
    {
     "name": "stdout",
     "output_type": "stream",
     "text": [
      "['abc' 'applications' 'binary' 'computer' 'engineering' 'eps' 'generation'\n",
      " 'graph' 'human' 'interface' 'intersection' 'lab' 'machine' 'management'\n",
      " 'minors' 'opinion' 'paths' 'random' 'response' 'survey' 'testing' 'time'\n",
      " 'trees' 'unordered' 'user']\n"
     ]
    },
    {
     "data": {
      "image/png": "[encoded data removed]",
      "text/plain": [
       "<Figure size 1280x358.4 with 2 Axes>"
      ]
     },
     "metadata": {},
     "output_type": "display_data"
    }
   ],
   "source": [
    "plt.matshow(bag.toarray(), cmap='Reds')\n",
    "\n",
    "# words = count.get_feature_names()\n",
    "words = count.get_feature_names_out()\n",
    "print(words)\n",
    "\n",
    "plt.xticks(range(len(words)), words, rotation='vertical')\n",
    "plt.colorbar()\n",
    "plt.show()"
   ]
  },
  {
   "cell_type": "markdown",
   "metadata": {
    "slideshow": {
     "slide_type": "slide"
    }
   },
   "source": [
    "Pole `vocabulary_` zawiera słownik wyrazów wraz z kodującymi je indeksami. "
   ]
  },
  {
   "cell_type": "code",
   "execution_count": 17,
   "metadata": {},
   "outputs": [
    {
     "name": "stdout",
     "output_type": "stream",
     "text": [
      "{'human': 8, 'machine': 12, 'interface': 9, 'lab': 11, 'abc': 0, 'computer': 3, 'applications': 1, 'survey': 19, 'user': 24, 'opinion': 15, 'response': 18, 'time': 21, 'eps': 5, 'management': 13, 'engineering': 4, 'testing': 20, 'generation': 6, 'random': 17, 'binary': 2, 'unordered': 23, 'trees': 22, 'intersection': 10, 'graph': 7, 'paths': 16, 'minors': 14}\n"
     ]
    }
   ],
   "source": [
    "print(count.vocabulary_)"
   ]
  },
  {
   "cell_type": "markdown",
   "metadata": {
    "slideshow": {
     "slide_type": "slide"
    }
   },
   "source": [
    "### Ćwiczenie\n",
    "\n",
    "Wymyśl zdanie zawierające kilka słow ze zbioru: ``['abc' 'applications' 'binary' 'computer' 'engineering' 'eps' 'generation' 'graph' 'human' 'interface' 'intersection' 'lab' 'machine' 'management' 'minors' 'opinion' 'paths' 'random' 'response' 'survey' 'testing' 'time' 'trees' 'unordered' 'user ``\n",
    "\n",
    "Uzyskaj wektorową reprezentację tego zdania korzystając z modelu ``count`` z poprzedniej sekcji.    \n",
    "Wyznacz odległość kosinusową nowego zdania względem dokumentów ze zbioru treningowego i wyznacz najbardziej podobny dokument. "
   ]
  },
  {
   "cell_type": "code",
   "execution_count": 18,
   "metadata": {},
   "outputs": [],
   "source": [
    "# Rozwiązanie\n",
    "\n",
    "\n"
   ]
  },
  {
   "cell_type": "markdown",
   "metadata": {
    "slideshow": {
     "slide_type": "slide"
    }
   },
   "source": [
    "## Wektoryzacja z ważeniem częstości wyrazów (tf-idf)"
   ]
  },
  {
   "cell_type": "markdown",
   "metadata": {},
   "source": [
    "Często występujące słowa zwykle nie zawierają użytecznych lub dyskryminujących informacji. Wcześniej odfiltrowaliśmy słowa, które w języku angielskim występują często korzystając ze zdefiniowanej listy `stop_words`. Metoda __term frequency-inverse document frequency__ (tf-idf) tworzy reprezentację wektorową dokumentów, w której słówa często pojawiającę się w dokumentach uzyskują mniejszą wagę."
   ]
  },
  {
   "cell_type": "markdown",
   "metadata": {
    "slideshow": {
     "slide_type": "slide"
    }
   },
   "source": [
    "Wartość tf-idf dla terminu $t$ w dokumencie $d$ zdefiniować można jako iloczyn częstości występowania terminu (wyrazu) w dokumencie $\\text{tf} (t,d)$ i tzw. odwrotnej częstotliwości dokumentu $\\text{idf}(t,d)$:\n",
    "\n",
    "$$\\text{tf-idf}(t,d)=\\text{tf} (t,d)\\times \\text{idf}(t,d)$$\n",
    "\n",
    "\n",
    "Częstość terminu $\\text{tf}(t,d)$  to wartość, którą dotychczas używaliśmy do reprezentowania cech w modelu worka słów. Odwrotna częstotliwość dokumentu $\\text{idf}(t,d)$  jest postaci:\n",
    "\n",
    "$$\\text{idf}(t,d) = \\text{log}\\frac{n_d}{1+\\text{df}(d, t)},$$\n",
    "\n",
    "gdzie $ n_d $ to całkowita liczba dokumentów, a  $\\text{df}(d, t)$ to liczba dokumentów $d$, które zawierają termin $t$. Dodanie stałej 1 do mianownika jest opcjonalne i służy uniknięciu dzielenia przez zero w sytuacji gdy żaden dokument nie zawiera wyrazu $t$.\n",
    "Czynnik $\\text{idf}(t,d)$ zmniejsza wagę wyrazów w worku słów, które pojawiają się często we wszystkich dokumentach (dla dużych $\\text{df}(d, t)$).  \n",
    "$\\text{idf}(t,d) \\approx 0$ gdy $t$ występuje we wszystkich dokumentach,   \n",
    "$\\text{idf}(t,d) \\approx 1$, gdy $t$ występuje średnio w 10% dokumentach"
   ]
  },
  {
   "cell_type": "markdown",
   "metadata": {
    "slideshow": {
     "slide_type": "slide"
    }
   },
   "source": [
    "## tf-idf w scikit-learn\n",
    "\n",
    "  * `TfidfTransformer` - transformer, który działa na stokenizowanych danych (np. na worku słów)\n",
    "  * `TfidfVectorizer`  - model wektoryzacji dokumentów i transformacja tf-idf\n",
    "\n",
    "Scikit-learn implementuje transformator `TfidfTransformer`, który pobiera nieprzetworzone częstotliwości z` CountVectorizer` jako dane wejściowe i przekształca je do postaci tf-idf.\n",
    "Dodatkowo wszystkie wartości w wierszach (dla pojedynczego dokumentu) są normowane normą $L_2$ (argument `norm='l2'`)."
   ]
  },
  {
   "cell_type": "code",
   "execution_count": 19,
   "metadata": {},
   "outputs": [
    {
     "name": "stdout",
     "output_type": "stream",
     "text": [
      "[[0.41 0.41 0.   0.34 0.   0.   0.   0.   0.34 0.34 0.   0.41 0.41 0.\n",
      "  0.   0.   0.   0.   0.   0.   0.   0.   0.   0.   0.  ]\n",
      " [0.   0.   0.   0.37 0.   0.   0.   0.   0.   0.   0.   0.   0.   0.\n",
      "  0.   0.44 0.   0.   0.44 0.37 0.   0.44 0.   0.   0.37]\n",
      " [0.   0.   0.   0.   0.   0.47 0.   0.   0.   0.47 0.   0.   0.   0.57\n",
      "  0.   0.   0.   0.   0.   0.   0.   0.   0.   0.   0.47]\n",
      " [0.   0.   0.   0.   0.54 0.45 0.   0.   0.45 0.   0.   0.   0.   0.\n",
      "  0.   0.   0.   0.   0.   0.   0.54 0.   0.   0.   0.  ]\n",
      " [0.   0.   0.46 0.   0.   0.   0.46 0.   0.   0.   0.   0.   0.   0.\n",
      "  0.   0.   0.   0.46 0.   0.   0.   0.   0.38 0.46 0.  ]\n",
      " [0.   0.   0.   0.   0.   0.   0.   0.45 0.   0.   0.54 0.   0.   0.\n",
      "  0.   0.   0.54 0.   0.   0.   0.   0.   0.45 0.   0.  ]\n",
      " [0.   0.   0.   0.   0.   0.   0.   0.54 0.   0.   0.   0.   0.   0.\n",
      "  0.65 0.   0.   0.   0.   0.54 0.   0.   0.   0.   0.  ]]\n"
     ]
    }
   ],
   "source": [
    "from sklearn.feature_extraction.text import TfidfTransformer\n",
    "\n",
    "tfidf = TfidfTransformer( norm='l2' )\n",
    "\n",
    "x = tfidf.fit_transform(count.fit_transform(docs))\n",
    "\n",
    "np.set_printoptions(precision=2)\n",
    "print(x.toarray())   "
   ]
  },
  {
   "cell_type": "code",
   "execution_count": 22,
   "metadata": {
    "slideshow": {
     "slide_type": "slide"
    }
   },
   "outputs": [
    {
     "data": {
      "image/png": "[encoded data removed]",
      "text/plain": [
       "<Figure size 1280x358.4 with 2 Axes>"
      ]
     },
     "metadata": {},
     "output_type": "display_data"
    }
   ],
   "source": [
    "plt.matshow(x.toarray(), cmap='Reds')\n",
    "# words = count.get_feature_names()\n",
    "words = count.get_feature_names_out()\n",
    "plt.xticks(range(len(words)), words, rotation='vertical')\n",
    "plt.colorbar()\n",
    "plt.show()"
   ]
  },
  {
   "cell_type": "markdown",
   "metadata": {
    "slideshow": {
     "slide_type": "-"
    }
   },
   "source": [
    "Widać, że wyrazy, które częściej wstępują w tekście otrzymują mniejszą wagę. Największa wagę ma słowo `minors` (0.65) ponieważ występuje tylko w jednym dokumencie, przy czym ten dokument jest najkrótszy (ma tylko 3 wyrazy), więc normowanie wektora miało tu mniejszy wpływ niż np. słowo `binary` (0.46), które również pojawia się tylko w jednym dokumencie ale w dłuższej sekwencji 5-cio wyrazowej."
   ]
  },
  {
   "cell_type": "markdown",
   "metadata": {
    "slideshow": {
     "slide_type": "slide"
    }
   },
   "source": [
    "Tak będzie wglądała macierz podobieństwa dokumentów w nowej reprezentacji."
   ]
  },
  {
   "cell_type": "code",
   "execution_count": 23,
   "metadata": {},
   "outputs": [
    {
     "data": {
      "image/png": "[encoded data removed]",
      "text/plain": [
       "<Figure size 384x384 with 2 Axes>"
      ]
     },
     "metadata": {},
     "output_type": "display_data"
    }
   ],
   "source": [
    "distance_matrix = pairwise_distances(x, x, metric='cosine')\n",
    "\n",
    "plt.matshow(distance_matrix)\n",
    "plt.colorbar()\n",
    "plt.show()"
   ]
  },
  {
   "cell_type": "markdown",
   "metadata": {
    "slideshow": {
     "slide_type": "slide"
    }
   },
   "source": [
    "## Wektoryzacja za pomocą haszowania\n",
    "\n",
    "`HashingVectorizer` tworzy reprezentację wektorową dokumentów  o ustalonej wymiarowości za pomocą funkcji haszującej\n",
    "  * możliwe kolizje\n",
    "  * wyniki są normalizowane $L_2$ (wektory leżą na jednostkowej sferze) - to dobrze dla k-means\n",
    "  * nie generuje słownika, nie ma wewnętrznego stanu (transformacja funkcją haszującą)\n",
    "  * wyniki nie są ważone ze względu na częstość wystąpień. Aby to uzyskać można zastosować w potoku z transformacją `TfidfTransformer`"
   ]
  },
  {
   "cell_type": "code",
   "execution_count": 24,
   "metadata": {},
   "outputs": [
    {
     "name": "stdout",
     "output_type": "stream",
     "text": [
      "[[ 0.    0.    0.33  0.    0.    0.   -0.67  0.    0.    0.33  0.    0.\n",
      "   0.33  0.   -0.33  0.    0.33  0.    0.    0.  ]\n",
      " [ 0.   -0.41  0.   -0.41  0.    0.    0.    0.    0.    0.41  0.   -0.41\n",
      "  -0.41  0.    0.   -0.41  0.    0.    0.    0.  ]\n",
      " [ 0.5   0.5   0.    0.    0.    0.   -0.5   0.    0.    0.    0.    0.\n",
      "   0.    0.    0.   -0.5   0.    0.    0.    0.  ]\n",
      " [ 0.    0.5   0.    0.    0.    0.    0.    0.    0.    0.    0.    0.\n",
      "  -0.5   0.    0.    0.    0.5   0.    0.    0.5 ]\n",
      " [ 0.    0.    0.    0.    0.    0.    0.    0.58  0.58  0.    0.    0.\n",
      "   0.    0.    0.    0.   -0.58  0.    0.    0.  ]\n",
      " [ 0.    0.71  0.    0.    0.    0.    0.    0.    0.    0.   -0.71  0.\n",
      "   0.    0.    0.    0.    0.    0.    0.    0.  ]\n",
      " [ 0.    0.58  0.   -0.58  0.    0.    0.    0.    0.    0.    0.    0.\n",
      "   0.    0.    0.    0.    0.    0.   -0.58  0.  ]]\n"
     ]
    }
   ],
   "source": [
    "from sklearn.feature_extraction.text import HashingVectorizer\n",
    "\n",
    "hv = HashingVectorizer(lowercase=True, stop_words='english', n_features=20)\n",
    "\n",
    "x = hv.fit_transform(docs)\n",
    "np.set_printoptions(precision=2)\n",
    "print(x.toarray())   "
   ]
  },
  {
   "cell_type": "code",
   "execution_count": 25,
   "metadata": {
    "slideshow": {
     "slide_type": "slide"
    }
   },
   "outputs": [
    {
     "data": {
      "image/png": "[encoded data removed]",
      "text/plain": [
       "<Figure size 1097.14x384 with 2 Axes>"
      ]
     },
     "metadata": {},
     "output_type": "display_data"
    }
   ],
   "source": [
    "plt.matshow(x.toarray(), cmap='bwr')\n",
    "words = count.get_feature_names_out()\n",
    "plt.xticks(range(len(words)), words, rotation='vertical')\n",
    "plt.colorbar()\n",
    "plt.show()"
   ]
  },
  {
   "cell_type": "code",
   "execution_count": 26,
   "metadata": {},
   "outputs": [
    {
     "data": {
      "image/png": "[encoded data removed]",
      "text/plain": [
       "<Figure size 384x384 with 2 Axes>"
      ]
     },
     "metadata": {},
     "output_type": "display_data"
    }
   ],
   "source": [
    "distance_matrix = pairwise_distances(x, x, metric='cosine')\n",
    "\n",
    "plt.matshow(distance_matrix)\n",
    "plt.colorbar()\n",
    "plt.show()"
   ]
  },
  {
   "cell_type": "markdown",
   "metadata": {
    "slideshow": {
     "slide_type": "slide"
    }
   },
   "source": [
    "Dla niskiej liczby wymiarów prawdopodobieństwo kolizji rośnie dlatego lepsze wyniki uzyskamy dla wysokowymiarowej reprezentacji. "
   ]
  },
  {
   "cell_type": "code",
   "execution_count": 27,
   "metadata": {},
   "outputs": [
    {
     "data": {
      "image/png": "[encoded data removed]",
      "text/plain": [
       "<Figure size 384x384 with 2 Axes>"
      ]
     },
     "metadata": {},
     "output_type": "display_data"
    }
   ],
   "source": [
    "hv = HashingVectorizer(lowercase=True, stop_words='english', n_features=1000)\n",
    "x = hv.fit_transform(docs)\n",
    "\n",
    "distance_matrix = pairwise_distances(x, x, metric='cosine')\n",
    "\n",
    "plt.matshow(distance_matrix)\n",
    "plt.colorbar()\n",
    "plt.show()"
   ]
  },
  {
   "cell_type": "markdown",
   "metadata": {
    "slideshow": {
     "slide_type": "notes"
    }
   },
   "source": [
    "## n-gramy\n",
    "\n",
    "Domyślnie worek słów rozkłada dokumenty na pojedyncze słowa, traktując je niezależnie. Możemy jednak uwzględnić zbitki słowne, składające się z 2 słów (2-gramy) lub większej liczby słów (n-gramy).  \n",
    "Przykładowo, słowo \"nie\" może tworzyć zaprzeczenie kolejnego słowa i nie powinno być traktowane osobno. \n",
    "\n",
    "Parametr `ngram_range` pozwala wybrać zakres analizowanych n-gramów (domyślnie jest to zakres `(1,1)`)"
   ]
  },
  {
   "cell_type": "markdown",
   "metadata": {
    "slideshow": {
     "slide_type": "slide"
    }
   },
   "source": [
    "## n-gramy\n",
    "\n",
    "Domyślnie ''CountVectorizer'' tworzy worek słów traktując każde słowo pojedynczo (tzw. unigram, 1-gram).\n",
    "\n",
    "Tokenem (elementem słownika) może być też zbitek dwóch (2-gram), trzech (3-gram) lub n-słow (n-gram).\n"
   ]
  },
  {
   "cell_type": "code",
   "execution_count": 28,
   "metadata": {},
   "outputs": [
    {
     "data": {
      "text/plain": [
       "array(['abc', 'abc computer', 'applications', 'binary',\n",
       "       'binary unordered', 'computer', 'computer applications',\n",
       "       'computer response', 'engineering', 'engineering testing', 'eps',\n",
       "       'eps user', 'generation', 'generation random', 'graph',\n",
       "       'graph minors', 'graph paths', 'human', 'human engineering',\n",
       "       'human machine', 'interface', 'interface lab',\n",
       "       'interface management', 'intersection', 'intersection graph',\n",
       "       'lab', 'lab abc', 'machine', 'machine interface', 'management',\n",
       "       'minors', 'minors survey', 'opinion', 'opinion computer', 'paths',\n",
       "       'paths trees', 'random', 'random binary', 'response',\n",
       "       'response time', 'survey', 'survey user', 'testing', 'testing eps',\n",
       "       'time', 'trees', 'unordered', 'unordered trees', 'user',\n",
       "       'user interface', 'user opinion'], dtype=object)"
      ]
     },
     "execution_count": 28,
     "metadata": {},
     "output_type": "execute_result"
    }
   ],
   "source": [
    "import numpy as np\n",
    "from sklearn.feature_extraction.text import CountVectorizer\n",
    "\n",
    "count = CountVectorizer(lowercase=True, stop_words='english', ngram_range=(1,2))\n",
    "docs = np.array(docs)\n",
    "bag = count.fit_transform(docs)\n",
    "# count.get_feature_names()\n",
    "count.get_feature_names_out()"
   ]
  },
  {
   "cell_type": "code",
   "execution_count": 29,
   "metadata": {
    "slideshow": {
     "slide_type": "slide"
    }
   },
   "outputs": [
    {
     "data": {
      "image/png": "[encoded data removed]",
      "text/plain": [
       "<Figure size 384x384 with 2 Axes>"
      ]
     },
     "metadata": {},
     "output_type": "display_data"
    }
   ],
   "source": [
    "distance_matrix = pairwise_distances(bag, bag, metric='cosine')\n",
    "\n",
    "plt.matshow(distance_matrix)\n",
    "plt.colorbar()\n",
    "plt.show()"
   ]
  },
  {
   "cell_type": "markdown",
   "metadata": {
    "slideshow": {
     "slide_type": "slide"
    }
   },
   "source": [
    "## Analiza sentymentów \n",
    "\n",
    "Analiza sentymentu polega na określeniu, czy treść dokumentu (np. wpis na forum internetowym, tweet, recenzja) ma charakter negatywny, pozytywny czy neutralny. Jest to więc **zadanie klasyfikacji** rozpoznające opinię autora tekstu. \n",
    "\n",
    "<div><center>\n",
    "<img src=\"attachment:obraz.png\" width=\"500\"/>\n",
    "</center></div>"
   ]
  },
  {
   "cell_type": "markdown",
   "metadata": {
    "slideshow": {
     "slide_type": "slide"
    }
   },
   "source": [
    "## Dane: movie data\n",
    "\n",
    "Spróbujmy przeprowadzić analizę sentymentów na rzeczywistych danych pochodzących z serwisu IMDB. Plik `movie_data.csv` zawiera 50 tysięcy recenzji filmów oznaczanych jako pozytywne lub negatywne. Przez recenzje pozytywne rozumiemy takie, które oceniały film na co najmniej 6 gwiazdek w 10-cio gwiazdkowej skali. Pozostałe recenzje, posiadające maksymalnie 5 gwiazdek, oznaczone są jako negatywne. \n",
    "\n",
    "Skompresowany plik z danymi o wielkości 26MB znajduje się w repozutorium [dane/movie_data.csv.gz](dane/movie_data.csv.gz)  \n",
    "Rrozpakowany plik zajmuje ok. 80MB."
   ]
  },
  {
   "cell_type": "code",
   "execution_count": 10,
   "metadata": {},
   "outputs": [
    {
     "data": {
      "text/html": [
       "<div>\n",
       "<style scoped>\n",
       "    .dataframe tbody tr th:only-of-type {\n",
       "        vertical-align: middle;\n",
       "    }\n",
       "\n",
       "    .dataframe tbody tr th {\n",
       "        vertical-align: top;\n",
       "    }\n",
       "\n",
       "    .dataframe thead th {\n",
       "        text-align: right;\n",
       "    }\n",
       "</style>\n",
       "<table border=\"1\" class=\"dataframe\">\n",
       "  <thead>\n",
       "    <tr style=\"text-align: right;\">\n",
       "      <th></th>\n",
       "      <th>review</th>\n",
       "      <th>sentiment</th>\n",
       "    </tr>\n",
       "  </thead>\n",
       "  <tbody>\n",
       "    <tr>\n",
       "      <th>0</th>\n",
       "      <td>In 1974, the teenager Martha Moxley (Maggie Gr...</td>\n",
       "      <td>1</td>\n",
       "    </tr>\n",
       "    <tr>\n",
       "      <th>1</th>\n",
       "      <td>OK... so... I really like Kris Kristofferson a...</td>\n",
       "      <td>0</td>\n",
       "    </tr>\n",
       "    <tr>\n",
       "      <th>2</th>\n",
       "      <td>***SPOILER*** Do not read this, if you think a...</td>\n",
       "      <td>0</td>\n",
       "    </tr>\n",
       "  </tbody>\n",
       "</table>\n",
       "</div>"
      ],
      "text/plain": [
       "                                              review  sentiment\n",
       "0  In 1974, the teenager Martha Moxley (Maggie Gr...          1\n",
       "1  OK... so... I really like Kris Kristofferson a...          0\n",
       "2  ***SPOILER*** Do not read this, if you think a...          0"
      ]
     },
     "execution_count": 10,
     "metadata": {},
     "output_type": "execute_result"
    }
   ],
   "source": [
    "import pandas as pd\n",
    "df = pd.read_csv(r'C:\\Users\\yanlu\\Python\\DatMin\\lab-09-analiza-tekstu-yanlukashevich\\dane\\movie_data.csv.gz', compression='gzip', encoding='utf-8')\n",
    "df.head(3) "
   ]
  },
  {
   "cell_type": "code",
   "execution_count": 11,
   "metadata": {},
   "outputs": [
    {
     "name": "stdout",
     "output_type": "stream",
     "text": [
      "Liczba recenzji  50000\n",
      "Liczba recenzji pozytywnych (1) i negatywnych (0)\n"
     ]
    },
    {
     "data": {
      "text/plain": [
       "sentiment\n",
       "1    25000\n",
       "0    25000\n",
       "Name: count, dtype: int64"
      ]
     },
     "execution_count": 11,
     "metadata": {},
     "output_type": "execute_result"
    }
   ],
   "source": [
    "print('Liczba recenzji ', df.shape[0])\n",
    "print('Liczba recenzji pozytywnych (1) i negatywnych (0)')\n",
    "df.sentiment.value_counts()"
   ]
  },
  {
   "cell_type": "markdown",
   "metadata": {
    "slideshow": {
     "slide_type": "slide"
    }
   },
   "source": [
    "Zmienna `review` zawiera recenzje - zobaczmy treść pierwszej recenzji."
   ]
  },
  {
   "cell_type": "code",
   "execution_count": 12,
   "metadata": {},
   "outputs": [
    {
     "name": "stdout",
     "output_type": "stream",
     "text": [
      "In 1974, the teenager Martha Moxley (Maggie Grace) moves to the high-class area of Belle Haven, Greenwich, Connecticut. On the Mischief Night, eve of Halloween, she was murdered in the backyard of her house and her murder remained unsolved. Twenty-two years later, the writer Mark Fuhrman (Christopher Meloni), who is a former LA detective that has fallen in disgrace for perjury in O.J. Simpson trial and moved to Idaho, decides to investigate the case with his partner Stephen Weeks (Andrew Mitchell) with the purpose of writing a book. The locals squirm and do not welcome them, but with the support of the retired detective Steve Carroll (Robert Forster) that was in charge of the investigation in the 70's, they discover the criminal and a net of power and money to cover the murder.<br /><br />\"Murder in Greenwich\" is a good TV movie, with the true story of a murder of a fifteen years old girl that was committed by a wealthy teenager whose mother was a Kennedy. The powerful and rich family used their influence to cover the murder for more than twenty years. However, a snoopy detective and convicted perjurer in disgrace was able to disclose how the hideous crime was committed. The screenplay shows the investigation of Mark and the last days of Martha in parallel, but there is a lack of the emotion in the dramatization. My vote is seven.<br /><br />Title (Brazil): Not Available\n"
     ]
    }
   ],
   "source": [
    "print(df.loc[0, 'review'])"
   ]
  },
  {
   "cell_type": "markdown",
   "metadata": {},
   "source": [
    "Jest to recenzja filmu \"Murder in Greenwich\" z 2002 roku (https://www.imdb.com/title/tt0339422/), który otrzymał w IMDB 6.2 gwiazdki (pozytywny), dlatego zmienna `sentiment` ma wartość 1 dla tej recenzji. "
   ]
  },
  {
   "cell_type": "code",
   "execution_count": 13,
   "metadata": {},
   "outputs": [
    {
     "name": "stdout",
     "output_type": "stream",
     "text": [
      "1\n"
     ]
    }
   ],
   "source": [
    "print(df.loc[0, 'sentiment'])"
   ]
  },
  {
   "cell_type": "markdown",
   "metadata": {
    "slideshow": {
     "slide_type": "slide"
    }
   },
   "source": [
    "## Czyszczenie danych\n",
    "\n",
    "Przed utworzeniem modelu worka słów lub reprezentacji tf-idf musimy przeprowadzić czyszczenie tekstu. W powyższym przykładzie widać, że recenzje obok znaków interpunkcyjnych posiadają również znaczniki HTML. Do analizy wybierzemy wyłącznie wyrazy, usuniemy wszystkie niepotrzebne znaki oraz elementy języka HTML. Stwórzmy w tym celu funkcję, która usuwa z tekstu niepotrzebne znaki. Bardzo przydatne w takich sytuacjach są wyrażenia regularne. Pythonowy pakiet `re` udostępnia szereg narzędzi działających na wyrażeniach regularnych, m. in. funkcję `sub` pozwalającą dokonywać zmiany w tekście."
   ]
  },
  {
   "cell_type": "code",
   "execution_count": 15,
   "metadata": {},
   "outputs": [
    {
     "name": "stderr",
     "output_type": "stream",
     "text": [
      "<>:4: SyntaxWarning: invalid escape sequence '\\W'\n",
      "<>:4: SyntaxWarning: invalid escape sequence '\\W'\n",
      "C:\\Users\\yanlu\\AppData\\Local\\Temp\\ipykernel_14756\\2749177180.py:4: SyntaxWarning: invalid escape sequence '\\W'\n",
      "  text = re.sub('[\\W]+', ' ', text.lower())      # pozbywamy się wszystkich znaków, które nie są literami\n"
     ]
    }
   ],
   "source": [
    "import re\n",
    "def preprocessor(text):\n",
    "    text = re.sub('<[^>]*>', '', text)             # usuwanie znaczników HTML\n",
    "    text = re.sub('[\\W]+', ' ', text.lower())      # pozbywamy się wszystkich znaków, które nie są literami\n",
    "    return text"
   ]
  },
  {
   "cell_type": "markdown",
   "metadata": {
    "slideshow": {
     "slide_type": "slide"
    }
   },
   "source": [
    "Zobaczmy jak sprawuje się funkcja `preprocessor`"
   ]
  },
  {
   "cell_type": "code",
   "execution_count": 16,
   "metadata": {},
   "outputs": [
    {
     "data": {
      "text/plain": [
       "'to jest test '"
      ]
     },
     "execution_count": 16,
     "metadata": {},
     "output_type": "execute_result"
    }
   ],
   "source": [
    "preprocessor(\"</a>To :) jest :( test :-)!\")"
   ]
  },
  {
   "cell_type": "markdown",
   "metadata": {},
   "source": [
    "Warto zauważyć, że nasza funkcja czyszcząca usuwa emotikony (np. `:-)`), które w analizie sentymentu mogą być bardzo przydatne, gdyż wyrażają emocje autora. Pomimo tego, nie zastosujemy ich w dalszej analizie."
   ]
  },
  {
   "cell_type": "code",
   "execution_count": 17,
   "metadata": {},
   "outputs": [
    {
     "name": "stdout",
     "output_type": "stream",
     "text": [
      "in 1974 the teenager martha moxley maggie grace moves to the high class area of belle haven greenwich connecticut on the mischief night eve of halloween she was murdered in the backyard of her house and her murder remained unsolved twenty two years later the writer mark fuhrman christopher meloni who is a former la detective that has fallen in disgrace for perjury in o j simpson trial and moved to idaho decides to investigate the case with his partner stephen weeks andrew mitchell with the purpose of writing a book the locals squirm and do not welcome them but with the support of the retired detective steve carroll robert forster that was in charge of the investigation in the 70 s they discover the criminal and a net of power and money to cover the murder murder in greenwich is a good tv movie with the true story of a murder of a fifteen years old girl that was committed by a wealthy teenager whose mother was a kennedy the powerful and rich family used their influence to cover the murder for more than twenty years however a snoopy detective and convicted perjurer in disgrace was able to disclose how the hideous crime was committed the screenplay shows the investigation of mark and the last days of martha in parallel but there is a lack of the emotion in the dramatization my vote is seven title brazil not available\n"
     ]
    }
   ],
   "source": [
    "print(preprocessor(df.loc[0, 'review']))"
   ]
  },
  {
   "cell_type": "markdown",
   "metadata": {
    "slideshow": {
     "slide_type": "slide"
    }
   },
   "source": [
    "Funkcja `apply` serii danych tabeli pandas pozwala zastosować funkcją transformacji na wszystkich elementach."
   ]
  },
  {
   "cell_type": "code",
   "execution_count": 18,
   "metadata": {},
   "outputs": [],
   "source": [
    "df['review'] = df['review'].apply(preprocessor)"
   ]
  },
  {
   "cell_type": "code",
   "execution_count": 19,
   "metadata": {},
   "outputs": [
    {
     "name": "stdout",
     "output_type": "stream",
     "text": [
      "in 1974 the teenager martha moxley maggie grace moves to the high class area of belle haven greenwich connecticut on the mischief night eve of halloween she was murdered in the backyard of her house and her murder remained unsolved twenty two years later the writer mark fuhrman christopher meloni who is a former la detective that has fallen in disgrace for perjury in o j simpson trial and moved to idaho decides to investigate the case with his partner stephen weeks andrew mitchell with the purpose of writing a book the locals squirm and do not welcome them but with the support of the retired detective steve carroll robert forster that was in charge of the investigation in the 70 s they discover the criminal and a net of power and money to cover the murder murder in greenwich is a good tv movie with the true story of a murder of a fifteen years old girl that was committed by a wealthy teenager whose mother was a kennedy the powerful and rich family used their influence to cover the murder for more than twenty years however a snoopy detective and convicted perjurer in disgrace was able to disclose how the hideous crime was committed the screenplay shows the investigation of mark and the last days of martha in parallel but there is a lack of the emotion in the dramatization my vote is seven title brazil not available\n"
     ]
    }
   ],
   "source": [
    "print(df.loc[0, 'review'])"
   ]
  },
  {
   "cell_type": "markdown",
   "metadata": {
    "slideshow": {
     "slide_type": "slide"
    }
   },
   "source": [
    "## Przygotowanie zbioru treningowego"
   ]
  },
  {
   "cell_type": "markdown",
   "metadata": {},
   "source": [
    "Podzielmy zbiór danych na część treningową i testową. Część treningowa zostanie wykorzystana do zbudowania modelu a testowa posłuży do końcowej oceny jakości wykrywania sentymentów."
   ]
  },
  {
   "cell_type": "code",
   "execution_count": 20,
   "metadata": {},
   "outputs": [
    {
     "name": "stdout",
     "output_type": "stream",
     "text": [
      "Trening: 25000 dokumentów\n",
      "Test   : 25000 dokumentów\n"
     ]
    }
   ],
   "source": [
    "from sklearn.model_selection import train_test_split\n",
    "\n",
    "X_train, X_test, y_train, y_test =  train_test_split(df.review, df.sentiment, test_size = 0.5, random_state=42)\n",
    "\n",
    "print('Trening: %d dokumentów' % len(X_train) )\n",
    "print('Test   : %d dokumentów' % len(X_test) )"
   ]
  },
  {
   "cell_type": "markdown",
   "metadata": {
    "slideshow": {
     "slide_type": "slide"
    }
   },
   "source": [
    "## Wektoryzacja dokumnetów \n",
    "  \n",
    "  * `CountVectorizer` - worek słów (liczba wystąpień)\n",
    "  * `TfidfVectorizer` - cechy ważone częstością wystąpień\n",
    "  * `HashingVectorizer` - cechy wygenerowane funkcją haszującą\n",
    "\n",
    "Dokumenty zamienimy do postaci wektorów cech metodą z ważonymi częstościami wyrazów `tf-idf`. Wykorzystajmy w tym celu transformator `TfidfVectorizer`, który w odróżnieniu od użytego wcześniej `TfidfTransformer` działa bezpośrednio na tekście. "
   ]
  },
  {
   "cell_type": "code",
   "execution_count": 21,
   "metadata": {},
   "outputs": [
    {
     "name": "stdout",
     "output_type": "stream",
     "text": [
      "Wielkość słownika: 77318\n"
     ]
    }
   ],
   "source": [
    "from sklearn.feature_extraction.text import TfidfVectorizer\n",
    "\n",
    "tfidf = TfidfVectorizer(stop_words='english')\n",
    "\n",
    "X_tfidf_train = tfidf.fit_transform(X_train)\n",
    "\n",
    "# print('Wielkość słownika:', len(tfidf.get_feature_names()))\n",
    "print('Wielkość słownika:', len(tfidf.get_feature_names_out()))"
   ]
  },
  {
   "cell_type": "markdown",
   "metadata": {
    "slideshow": {
     "slide_type": "slide"
    }
   },
   "source": [
    "## Model klasyfikacyjny \n",
    "Dane zawierają sporo dokumentów i bardzo dużo zmiennych. Użyjmy regresji logistycznej, gdyż jest ona metodą, która posiada małą złożoność obliczeniową, więc obliczenia nie będą trwały zbyt długo."
   ]
  },
  {
   "cell_type": "code",
   "execution_count": 22,
   "metadata": {},
   "outputs": [
    {
     "data": {
      "text/html": [
       "<style>#sk-container-id-1 {\n",
       "  /* Definition of color scheme common for light and dark mode */\n",
       "  --sklearn-color-text: black;\n",
       "  --sklearn-color-line: gray;\n",
       "  /* Definition of color scheme for unfitted estimators */\n",
       "  --sklearn-color-unfitted-level-0: #fff5e6;\n",
       "  --sklearn-color-unfitted-level-1: #f6e4d2;\n",
       "  --sklearn-color-unfitted-level-2: #ffe0b3;\n",
       "  --sklearn-color-unfitted-level-3: chocolate;\n",
       "  /* Definition of color scheme for fitted estimators */\n",
       "  --sklearn-color-fitted-level-0: #f0f8ff;\n",
       "  --sklearn-color-fitted-level-1: #d4ebff;\n",
       "  --sklearn-color-fitted-level-2: #b3dbfd;\n",
       "  --sklearn-color-fitted-level-3: cornflowerblue;\n",
       "\n",
       "  /* Specific color for light theme */\n",
       "  --sklearn-color-text-on-default-background: var(--sg-text-color, var(--theme-code-foreground, var(--jp-content-font-color1, black)));\n",
       "  --sklearn-color-background: var(--sg-background-color, var(--theme-background, var(--jp-layout-color0, white)));\n",
       "  --sklearn-color-border-box: var(--sg-text-color, var(--theme-code-foreground, var(--jp-content-font-color1, black)));\n",
       "  --sklearn-color-icon: #696969;\n",
       "\n",
       "  @media (prefers-color-scheme: dark) {\n",
       "    /* Redefinition of color scheme for dark theme */\n",
       "    --sklearn-color-text-on-default-background: var(--sg-text-color, var(--theme-code-foreground, var(--jp-content-font-color1, white)));\n",
       "    --sklearn-color-background: var(--sg-background-color, var(--theme-background, var(--jp-layout-color0, #111)));\n",
       "    --sklearn-color-border-box: var(--sg-text-color, var(--theme-code-foreground, var(--jp-content-font-color1, white)));\n",
       "    --sklearn-color-icon: #878787;\n",
       "  }\n",
       "}\n",
       "\n",
       "#sk-container-id-1 {\n",
       "  color: var(--sklearn-color-text);\n",
       "}\n",
       "\n",
       "#sk-container-id-1 pre {\n",
       "  padding: 0;\n",
       "}\n",
       "\n",
       "#sk-container-id-1 input.sk-hidden--visually {\n",
       "  border: 0;\n",
       "  clip: rect(1px 1px 1px 1px);\n",
       "  clip: rect(1px, 1px, 1px, 1px);\n",
       "  height: 1px;\n",
       "  margin: -1px;\n",
       "  overflow: hidden;\n",
       "  padding: 0;\n",
       "  position: absolute;\n",
       "  width: 1px;\n",
       "}\n",
       "\n",
       "#sk-container-id-1 div.sk-dashed-wrapped {\n",
       "  border: 1px dashed var(--sklearn-color-line);\n",
       "  margin: 0 0.4em 0.5em 0.4em;\n",
       "  box-sizing: border-box;\n",
       "  padding-bottom: 0.4em;\n",
       "  background-color: var(--sklearn-color-background);\n",
       "}\n",
       "\n",
       "#sk-container-id-1 div.sk-container {\n",
       "  /* jupyter's `normalize.less` sets `[hidden] { display: none; }`\n",
       "     but bootstrap.min.css set `[hidden] { display: none !important; }`\n",
       "     so we also need the `!important` here to be able to override the\n",
       "     default hidden behavior on the sphinx rendered scikit-learn.org.\n",
       "     See: https://github.com/scikit-learn/scikit-learn/issues/21755 */\n",
       "  display: inline-block !important;\n",
       "  position: relative;\n",
       "}\n",
       "\n",
       "#sk-container-id-1 div.sk-text-repr-fallback {\n",
       "  display: none;\n",
       "}\n",
       "\n",
       "div.sk-parallel-item,\n",
       "div.sk-serial,\n",
       "div.sk-item {\n",
       "  /* draw centered vertical line to link estimators */\n",
       "  background-image: linear-gradient(var(--sklearn-color-text-on-default-background), var(--sklearn-color-text-on-default-background));\n",
       "  background-size: 2px 100%;\n",
       "  background-repeat: no-repeat;\n",
       "  background-position: center center;\n",
       "}\n",
       "\n",
       "/* Parallel-specific style estimator block */\n",
       "\n",
       "#sk-container-id-1 div.sk-parallel-item::after {\n",
       "  content: \"\";\n",
       "  width: 100%;\n",
       "  border-bottom: 2px solid var(--sklearn-color-text-on-default-background);\n",
       "  flex-grow: 1;\n",
       "}\n",
       "\n",
       "#sk-container-id-1 div.sk-parallel {\n",
       "  display: flex;\n",
       "  align-items: stretch;\n",
       "  justify-content: center;\n",
       "  background-color: var(--sklearn-color-background);\n",
       "  position: relative;\n",
       "}\n",
       "\n",
       "#sk-container-id-1 div.sk-parallel-item {\n",
       "  display: flex;\n",
       "  flex-direction: column;\n",
       "}\n",
       "\n",
       "#sk-container-id-1 div.sk-parallel-item:first-child::after {\n",
       "  align-self: flex-end;\n",
       "  width: 50%;\n",
       "}\n",
       "\n",
       "#sk-container-id-1 div.sk-parallel-item:last-child::after {\n",
       "  align-self: flex-start;\n",
       "  width: 50%;\n",
       "}\n",
       "\n",
       "#sk-container-id-1 div.sk-parallel-item:only-child::after {\n",
       "  width: 0;\n",
       "}\n",
       "\n",
       "/* Serial-specific style estimator block */\n",
       "\n",
       "#sk-container-id-1 div.sk-serial {\n",
       "  display: flex;\n",
       "  flex-direction: column;\n",
       "  align-items: center;\n",
       "  background-color: var(--sklearn-color-background);\n",
       "  padding-right: 1em;\n",
       "  padding-left: 1em;\n",
       "}\n",
       "\n",
       "\n",
       "/* Toggleable style: style used for estimator/Pipeline/ColumnTransformer box that is\n",
       "clickable and can be expanded/collapsed.\n",
       "- Pipeline and ColumnTransformer use this feature and define the default style\n",
       "- Estimators will overwrite some part of the style using the `sk-estimator` class\n",
       "*/\n",
       "\n",
       "/* Pipeline and ColumnTransformer style (default) */\n",
       "\n",
       "#sk-container-id-1 div.sk-toggleable {\n",
       "  /* Default theme specific background. It is overwritten whether we have a\n",
       "  specific estimator or a Pipeline/ColumnTransformer */\n",
       "  background-color: var(--sklearn-color-background);\n",
       "}\n",
       "\n",
       "/* Toggleable label */\n",
       "#sk-container-id-1 label.sk-toggleable__label {\n",
       "  cursor: pointer;\n",
       "  display: block;\n",
       "  width: 100%;\n",
       "  margin-bottom: 0;\n",
       "  padding: 0.5em;\n",
       "  box-sizing: border-box;\n",
       "  text-align: center;\n",
       "}\n",
       "\n",
       "#sk-container-id-1 label.sk-toggleable__label-arrow:before {\n",
       "  /* Arrow on the left of the label */\n",
       "  content: \"▸\";\n",
       "  float: left;\n",
       "  margin-right: 0.25em;\n",
       "  color: var(--sklearn-color-icon);\n",
       "}\n",
       "\n",
       "#sk-container-id-1 label.sk-toggleable__label-arrow:hover:before {\n",
       "  color: var(--sklearn-color-text);\n",
       "}\n",
       "\n",
       "/* Toggleable content - dropdown */\n",
       "\n",
       "#sk-container-id-1 div.sk-toggleable__content {\n",
       "  max-height: 0;\n",
       "  max-width: 0;\n",
       "  overflow: hidden;\n",
       "  text-align: left;\n",
       "  /* unfitted */\n",
       "  background-color: var(--sklearn-color-unfitted-level-0);\n",
       "}\n",
       "\n",
       "#sk-container-id-1 div.sk-toggleable__content.fitted {\n",
       "  /* fitted */\n",
       "  background-color: var(--sklearn-color-fitted-level-0);\n",
       "}\n",
       "\n",
       "#sk-container-id-1 div.sk-toggleable__content pre {\n",
       "  margin: 0.2em;\n",
       "  border-radius: 0.25em;\n",
       "  color: var(--sklearn-color-text);\n",
       "  /* unfitted */\n",
       "  background-color: var(--sklearn-color-unfitted-level-0);\n",
       "}\n",
       "\n",
       "#sk-container-id-1 div.sk-toggleable__content.fitted pre {\n",
       "  /* unfitted */\n",
       "  background-color: var(--sklearn-color-fitted-level-0);\n",
       "}\n",
       "\n",
       "#sk-container-id-1 input.sk-toggleable__control:checked~div.sk-toggleable__content {\n",
       "  /* Expand drop-down */\n",
       "  max-height: 200px;\n",
       "  max-width: 100%;\n",
       "  overflow: auto;\n",
       "}\n",
       "\n",
       "#sk-container-id-1 input.sk-toggleable__control:checked~label.sk-toggleable__label-arrow:before {\n",
       "  content: \"▾\";\n",
       "}\n",
       "\n",
       "/* Pipeline/ColumnTransformer-specific style */\n",
       "\n",
       "#sk-container-id-1 div.sk-label input.sk-toggleable__control:checked~label.sk-toggleable__label {\n",
       "  color: var(--sklearn-color-text);\n",
       "  background-color: var(--sklearn-color-unfitted-level-2);\n",
       "}\n",
       "\n",
       "#sk-container-id-1 div.sk-label.fitted input.sk-toggleable__control:checked~label.sk-toggleable__label {\n",
       "  background-color: var(--sklearn-color-fitted-level-2);\n",
       "}\n",
       "\n",
       "/* Estimator-specific style */\n",
       "\n",
       "/* Colorize estimator box */\n",
       "#sk-container-id-1 div.sk-estimator input.sk-toggleable__control:checked~label.sk-toggleable__label {\n",
       "  /* unfitted */\n",
       "  background-color: var(--sklearn-color-unfitted-level-2);\n",
       "}\n",
       "\n",
       "#sk-container-id-1 div.sk-estimator.fitted input.sk-toggleable__control:checked~label.sk-toggleable__label {\n",
       "  /* fitted */\n",
       "  background-color: var(--sklearn-color-fitted-level-2);\n",
       "}\n",
       "\n",
       "#sk-container-id-1 div.sk-label label.sk-toggleable__label,\n",
       "#sk-container-id-1 div.sk-label label {\n",
       "  /* The background is the default theme color */\n",
       "  color: var(--sklearn-color-text-on-default-background);\n",
       "}\n",
       "\n",
       "/* On hover, darken the color of the background */\n",
       "#sk-container-id-1 div.sk-label:hover label.sk-toggleable__label {\n",
       "  color: var(--sklearn-color-text);\n",
       "  background-color: var(--sklearn-color-unfitted-level-2);\n",
       "}\n",
       "\n",
       "/* Label box, darken color on hover, fitted */\n",
       "#sk-container-id-1 div.sk-label.fitted:hover label.sk-toggleable__label.fitted {\n",
       "  color: var(--sklearn-color-text);\n",
       "  background-color: var(--sklearn-color-fitted-level-2);\n",
       "}\n",
       "\n",
       "/* Estimator label */\n",
       "\n",
       "#sk-container-id-1 div.sk-label label {\n",
       "  font-family: monospace;\n",
       "  font-weight: bold;\n",
       "  display: inline-block;\n",
       "  line-height: 1.2em;\n",
       "}\n",
       "\n",
       "#sk-container-id-1 div.sk-label-container {\n",
       "  text-align: center;\n",
       "}\n",
       "\n",
       "/* Estimator-specific */\n",
       "#sk-container-id-1 div.sk-estimator {\n",
       "  font-family: monospace;\n",
       "  border: 1px dotted var(--sklearn-color-border-box);\n",
       "  border-radius: 0.25em;\n",
       "  box-sizing: border-box;\n",
       "  margin-bottom: 0.5em;\n",
       "  /* unfitted */\n",
       "  background-color: var(--sklearn-color-unfitted-level-0);\n",
       "}\n",
       "\n",
       "#sk-container-id-1 div.sk-estimator.fitted {\n",
       "  /* fitted */\n",
       "  background-color: var(--sklearn-color-fitted-level-0);\n",
       "}\n",
       "\n",
       "/* on hover */\n",
       "#sk-container-id-1 div.sk-estimator:hover {\n",
       "  /* unfitted */\n",
       "  background-color: var(--sklearn-color-unfitted-level-2);\n",
       "}\n",
       "\n",
       "#sk-container-id-1 div.sk-estimator.fitted:hover {\n",
       "  /* fitted */\n",
       "  background-color: var(--sklearn-color-fitted-level-2);\n",
       "}\n",
       "\n",
       "/* Specification for estimator info (e.g. \"i\" and \"?\") */\n",
       "\n",
       "/* Common style for \"i\" and \"?\" */\n",
       "\n",
       ".sk-estimator-doc-link,\n",
       "a:link.sk-estimator-doc-link,\n",
       "a:visited.sk-estimator-doc-link {\n",
       "  float: right;\n",
       "  font-size: smaller;\n",
       "  line-height: 1em;\n",
       "  font-family: monospace;\n",
       "  background-color: var(--sklearn-color-background);\n",
       "  border-radius: 1em;\n",
       "  height: 1em;\n",
       "  width: 1em;\n",
       "  text-decoration: none !important;\n",
       "  margin-left: 1ex;\n",
       "  /* unfitted */\n",
       "  border: var(--sklearn-color-unfitted-level-1) 1pt solid;\n",
       "  color: var(--sklearn-color-unfitted-level-1);\n",
       "}\n",
       "\n",
       ".sk-estimator-doc-link.fitted,\n",
       "a:link.sk-estimator-doc-link.fitted,\n",
       "a:visited.sk-estimator-doc-link.fitted {\n",
       "  /* fitted */\n",
       "  border: var(--sklearn-color-fitted-level-1) 1pt solid;\n",
       "  color: var(--sklearn-color-fitted-level-1);\n",
       "}\n",
       "\n",
       "/* On hover */\n",
       "div.sk-estimator:hover .sk-estimator-doc-link:hover,\n",
       ".sk-estimator-doc-link:hover,\n",
       "div.sk-label-container:hover .sk-estimator-doc-link:hover,\n",
       ".sk-estimator-doc-link:hover {\n",
       "  /* unfitted */\n",
       "  background-color: var(--sklearn-color-unfitted-level-3);\n",
       "  color: var(--sklearn-color-background);\n",
       "  text-decoration: none;\n",
       "}\n",
       "\n",
       "div.sk-estimator.fitted:hover .sk-estimator-doc-link.fitted:hover,\n",
       ".sk-estimator-doc-link.fitted:hover,\n",
       "div.sk-label-container:hover .sk-estimator-doc-link.fitted:hover,\n",
       ".sk-estimator-doc-link.fitted:hover {\n",
       "  /* fitted */\n",
       "  background-color: var(--sklearn-color-fitted-level-3);\n",
       "  color: var(--sklearn-color-background);\n",
       "  text-decoration: none;\n",
       "}\n",
       "\n",
       "/* Span, style for the box shown on hovering the info icon */\n",
       ".sk-estimator-doc-link span {\n",
       "  display: none;\n",
       "  z-index: 9999;\n",
       "  position: relative;\n",
       "  font-weight: normal;\n",
       "  right: .2ex;\n",
       "  padding: .5ex;\n",
       "  margin: .5ex;\n",
       "  width: min-content;\n",
       "  min-width: 20ex;\n",
       "  max-width: 50ex;\n",
       "  color: var(--sklearn-color-text);\n",
       "  box-shadow: 2pt 2pt 4pt #999;\n",
       "  /* unfitted */\n",
       "  background: var(--sklearn-color-unfitted-level-0);\n",
       "  border: .5pt solid var(--sklearn-color-unfitted-level-3);\n",
       "}\n",
       "\n",
       ".sk-estimator-doc-link.fitted span {\n",
       "  /* fitted */\n",
       "  background: var(--sklearn-color-fitted-level-0);\n",
       "  border: var(--sklearn-color-fitted-level-3);\n",
       "}\n",
       "\n",
       ".sk-estimator-doc-link:hover span {\n",
       "  display: block;\n",
       "}\n",
       "\n",
       "/* \"?\"-specific style due to the `<a>` HTML tag */\n",
       "\n",
       "#sk-container-id-1 a.estimator_doc_link {\n",
       "  float: right;\n",
       "  font-size: 1rem;\n",
       "  line-height: 1em;\n",
       "  font-family: monospace;\n",
       "  background-color: var(--sklearn-color-background);\n",
       "  border-radius: 1rem;\n",
       "  height: 1rem;\n",
       "  width: 1rem;\n",
       "  text-decoration: none;\n",
       "  /* unfitted */\n",
       "  color: var(--sklearn-color-unfitted-level-1);\n",
       "  border: var(--sklearn-color-unfitted-level-1) 1pt solid;\n",
       "}\n",
       "\n",
       "#sk-container-id-1 a.estimator_doc_link.fitted {\n",
       "  /* fitted */\n",
       "  border: var(--sklearn-color-fitted-level-1) 1pt solid;\n",
       "  color: var(--sklearn-color-fitted-level-1);\n",
       "}\n",
       "\n",
       "/* On hover */\n",
       "#sk-container-id-1 a.estimator_doc_link:hover {\n",
       "  /* unfitted */\n",
       "  background-color: var(--sklearn-color-unfitted-level-3);\n",
       "  color: var(--sklearn-color-background);\n",
       "  text-decoration: none;\n",
       "}\n",
       "\n",
       "#sk-container-id-1 a.estimator_doc_link.fitted:hover {\n",
       "  /* fitted */\n",
       "  background-color: var(--sklearn-color-fitted-level-3);\n",
       "}\n",
       "</style><div id=\"sk-container-id-1\" class=\"sk-top-container\"><div class=\"sk-text-repr-fallback\"><pre>LogisticRegression(C=1, random_state=0)</pre><b>In a Jupyter environment, please rerun this cell to show the HTML representation or trust the notebook. <br />On GitHub, the HTML representation is unable to render, please try loading this page with nbviewer.org.</b></div><div class=\"sk-container\" hidden><div class=\"sk-item\"><div class=\"sk-estimator fitted sk-toggleable\"><input class=\"sk-toggleable__control sk-hidden--visually\" id=\"sk-estimator-id-1\" type=\"checkbox\" checked><label for=\"sk-estimator-id-1\" class=\"sk-toggleable__label fitted sk-toggleable__label-arrow fitted\">&nbsp;&nbsp;LogisticRegression<a class=\"sk-estimator-doc-link fitted\" rel=\"noreferrer\" target=\"_blank\" href=\"https://scikit-learn.org/1.5/modules/generated/sklearn.linear_model.LogisticRegression.html\">?<span>Documentation for LogisticRegression</span></a><span class=\"sk-estimator-doc-link fitted\">i<span>Fitted</span></span></label><div class=\"sk-toggleable__content fitted\"><pre>LogisticRegression(C=1, random_state=0)</pre></div> </div></div></div></div>"
      ],
      "text/plain": [
       "LogisticRegression(C=1, random_state=0)"
      ]
     },
     "execution_count": 22,
     "metadata": {},
     "output_type": "execute_result"
    }
   ],
   "source": [
    "from sklearn.linear_model import LogisticRegression\n",
    "\n",
    "lr = LogisticRegression(C=1, solver='lbfgs', random_state=0)\n",
    "lr.fit(X_tfidf_train, y_train)"
   ]
  },
  {
   "cell_type": "markdown",
   "metadata": {
    "slideshow": {
     "slide_type": "slide"
    }
   },
   "source": [
    "Sprawdźmy teraz poprawność wykrywania sentymentów na danych testowych. Oczywiście najpierw należy przetransformować recenzje testowe za pomocą takiej samej transformacji, która była użyta została do stworzenia zbioru treningowego."
   ]
  },
  {
   "cell_type": "code",
   "execution_count": 23,
   "metadata": {},
   "outputs": [
    {
     "name": "stdout",
     "output_type": "stream",
     "text": [
      "Poprawność klasyfikacji: 0.89208\n"
     ]
    }
   ],
   "source": [
    "from  sklearn.metrics import accuracy_score\n",
    "\n",
    "# transformacja zb. testowego\n",
    "X_tfidf_test = tfidf.transform(X_test)\n",
    "\n",
    "# predykcja na zbiorze testowym\n",
    "y_pred = lr.predict(X_tfidf_test)\n",
    "\n",
    "print('Poprawność klasyfikacji:', accuracy_score(y_test, y_pred))"
   ]
  },
  {
   "cell_type": "markdown",
   "metadata": {},
   "source": [
    "Wynik bliski 90% poprawności jest całkiem niezły. Być może dobierając odpowiednio parametry klasyfikatora lub stosując inny klasyfikator udałoby się osiągnięć jeszcze lepszy wynik. "
   ]
  },
  {
   "cell_type": "markdown",
   "metadata": {
    "slideshow": {
     "slide_type": "slide"
    }
   },
   "source": [
    "Zobaczmy jak rozkładają się błędy w tablicy pomyłek"
   ]
  },
  {
   "cell_type": "code",
   "execution_count": 24,
   "metadata": {},
   "outputs": [
    {
     "data": {
      "text/html": [
       "<div>\n",
       "<style scoped>\n",
       "    .dataframe tbody tr th:only-of-type {\n",
       "        vertical-align: middle;\n",
       "    }\n",
       "\n",
       "    .dataframe tbody tr th {\n",
       "        vertical-align: top;\n",
       "    }\n",
       "\n",
       "    .dataframe thead th {\n",
       "        text-align: right;\n",
       "    }\n",
       "</style>\n",
       "<table border=\"1\" class=\"dataframe\">\n",
       "  <thead>\n",
       "    <tr style=\"text-align: right;\">\n",
       "      <th>predykcja</th>\n",
       "      <th>negatywny</th>\n",
       "      <th>pozytywny</th>\n",
       "    </tr>\n",
       "    <tr>\n",
       "      <th>prawdziwa etykieta</th>\n",
       "      <th></th>\n",
       "      <th></th>\n",
       "    </tr>\n",
       "  </thead>\n",
       "  <tbody>\n",
       "    <tr>\n",
       "      <th>negatywny</th>\n",
       "      <td>10939</td>\n",
       "      <td>1536</td>\n",
       "    </tr>\n",
       "    <tr>\n",
       "      <th>pozytywny</th>\n",
       "      <td>1162</td>\n",
       "      <td>11363</td>\n",
       "    </tr>\n",
       "  </tbody>\n",
       "</table>\n",
       "</div>"
      ],
      "text/plain": [
       "predykcja           negatywny  pozytywny\n",
       "prawdziwa etykieta                      \n",
       "negatywny               10939       1536\n",
       "pozytywny                1162      11363"
      ]
     },
     "execution_count": 24,
     "metadata": {},
     "output_type": "execute_result"
    }
   ],
   "source": [
    "from sklearn.metrics import confusion_matrix\n",
    "\n",
    "cm=confusion_matrix(y_test, y_pred)\n",
    "cc = pd.DataFrame(cm, columns=['negatywny', 'pozytywny'], index=['negatywny', 'pozytywny'])\n",
    "cc.columns.name = 'predykcja'\n",
    "cc.index.name = 'prawdziwa etykieta'\n",
    "cc"
   ]
  },
  {
   "cell_type": "markdown",
   "metadata": {
    "slideshow": {
     "slide_type": "slide"
    }
   },
   "source": [
    "### Ćwiczenie\n",
    "\n",
    "Wybierz dowolną recenzję filmu, który wyszedł w obecnym roku korzystając z bazy danych IMDB https://www.imdb.com/   \n",
    "Skopuj treść wybranej rezenzji użytkownika i sprawdź za pomocą klasyfikatora, czy jest ona pozytywna, czy negatywna?   "
   ]
  },
  {
   "cell_type": "code",
   "execution_count": null,
   "metadata": {},
   "outputs": [],
   "source": [
    "\n",
    "\n",
    "\n",
    "\n"
   ]
  },
  {
   "cell_type": "markdown",
   "metadata": {
    "slideshow": {
     "slide_type": "slide"
    }
   },
   "source": [
    "## Modelowanie tematów (bonusowa zawartość)\n",
    "\n",
    "Model tematów (*topic model*) polega na odkrywaniu struktur semantycznych w tekście (grup tematycznych). Tutaj tematy są zdefiniowane przez grupy słów. Jeżeli zbiór dokumentów dotyczy określonego tematu, to  można oczekiwać, że pewne słowa pojawią się w dokumencie częściej lub rzadziej: „pies” i „kość” pojawią się częściej w dokumentach dotyczących psów a słowa „mąka” i „cukier” pojawią się w dokumentach na temat gotowania. Każdy dokument może być w różnym stopniu przypisany do wielu różnych tematów, wiąże się to z częstością pojawiania się w dokumencie słów przypisanych do różnych tematów. \n",
    "\n",
    "Modelowanie tematów jest więc metodą uczenia nienadzorowanego, która  grupuje zestawy wyrazów w grupy tematyczne oraz przypisuje dokumentom stopień przynależności do każdej z grup tematycznych."
   ]
  },
  {
   "attachments": {
    "image.png": {
     "image/png": "[encoded data removed]"
    }
   },
   "cell_type": "markdown",
   "metadata": {},
   "source": [
    "![image.png](attachment:image.png)"
   ]
  },
  {
   "cell_type": "markdown",
   "metadata": {
    "slideshow": {
     "slide_type": "slide"
    }
   },
   "source": [
    "### Dekompozycja dokumentów tekstowych za pomocą Latent Dirichlet Allocation\n",
    "\n",
    "Latent Dirichlet Allocation tworzy model statystyczny, w którym zakładamy, że każdy dokument jest mieszanką pewnej liczby tematów. Każdy temat z kolei scharakteryzowany jest częstością występowania pewnej grypy słów.  \n",
    "Przykładowo, na poniższym wykresie temat $k$ jest określony przez częstość występowania pięciu słów, przy czym słowa `obama` i `speech` mają największą częstość występowania dla tego tematu. Dokument $d$ zawiera słowa, które wiążą go w różnym stopniu z tematami, przy czym temat `sports` i `news` mają tu największy wkład."
   ]
  },
  {
   "cell_type": "markdown",
   "metadata": {},
   "source": [
    "<div>\n",
    "<img src=\"attachment:image.png\" width=\"500\"/>\n",
    "</div>"
   ]
  },
  {
   "cell_type": "markdown",
   "metadata": {
    "slideshow": {
     "slide_type": "slide"
    }
   },
   "source": [
    "### Algorytm LDA \n",
    "<div>\n",
    "<img src=\"attachment:obraz.png\" width=\"800\"/>\n",
    "</div>\n",
    "\n",
    "[Understanding Latent Dirichlet Allocation](https://www.mygreatlearning.com/blog/understanding-latent-dirichlet-allocation/)\n",
    "\n",
    "Model LDA powstaje w sposób iteracyjny i jego działanie ma charakter stochastyczny.\n",
    "Na początku działania algorytmu każdy wyraz jest w sposób losowy przydzielany do jednego z $k$ tematów. Należy zauważyć, że losowe przypisanie już zapewnia zarówno reprezentację tematyczną wszystkich dokumentów, jak i dystrybucję słów w tematach. Przypisanie początkowe jest losowe, więc dalekie od ideału, dlatego w kolejnych krokach LDA iteracyjne aktualizuje przypisanie słów do tematów dążąc do stanu równowagi, gdzie rozkłady prawdopodobieństw słów w tematach oraz tematów pośród dokumentów będą odpowiadać częstości występowania słów w analizowanych dokumentach. \n",
    "Proces dla każdego kolejnego słowa $w$ pochodzącego z dokumentu $d$ losuje przynależność tego słowa do tematu $t$ z prawdopodobieństwem danym przez\n",
    "\n",
    "$$p(w |t, d) = p (t| d) * p (w | t)$$\n",
    "\n",
    "gdzie $p ( t|  d)$ określa stopień powiązania tematu $t$ z dokumentem $d$. Im większe jest to prawdopodobieństwo tym większa szansa, że słowo $w$ będzie należało do tego tematu. Prawdopodobieństwo $p (w |  t)$ określa rozkład występowania słowa $w$ w tematach $t$ pośród wszystkich pozostałych dokumentów. Jeżeli to prawdopodobieństwo jest niskie dla pozostałych dokumentów to szansa, że $w$ zostanie przypasane do tego tematu maleje. Innymi słowy, w tym kroku zakładamy, że wszystkie przypisania tematów oprócz bieżącego słowa, o którym mowa, są poprawne, a następnie aktualizujemy przypisanie bieżącego słowa, korzystając z aktualnego modelu i rozkładów prawdopodobieństw tematów w dokumentach i rozkładów prawdopodobieństw słów w tematach.\n"
   ]
  },
  {
   "cell_type": "markdown",
   "metadata": {
    "slideshow": {
     "slide_type": "slide"
    }
   },
   "source": [
    "### Przygotowanie danych\n",
    "\n",
    "Przygotujmy najpierw zbiór treningowy. Ponieważ model LDA jest wymagający obliczeniowo ograniczmy wielkość zbioru treningowego do pierwszych 10 tysięcy recenzji. Dodatkowo, tworząc model worka słów można ograniczyć docelową wielkość słownika (ilość cech). Argument `max_features=5000` spowoduje, że dokumenty będą reprezentowane przez  5000 najczęściej występujących słów. Dodatkowo, argument `max_df=0.1` powoduje, że wyrazy, które występują w więcej niż 10% dokumentów będą ignorowane. "
   ]
  },
  {
   "cell_type": "code",
   "execution_count": null,
   "metadata": {
    "scrolled": true
   },
   "outputs": [],
   "source": [
    "from sklearn.feature_extraction.text import CountVectorizer\n",
    "\n",
    "count = CountVectorizer(stop_words='english', max_features=5000, max_df=.1)\n",
    "X = count.fit_transform(X_train[:10000])"
   ]
  },
  {
   "cell_type": "markdown",
   "metadata": {
    "slideshow": {
     "slide_type": "slide"
    }
   },
   "source": [
    "### LDA w  scikit-learn\n",
    "\n",
    "Model LDA wykrywania tematów realizowany jest za pomocą klasy `LatentDirichletAllocation`. Głównym parametrem metody jest ilość szukanych tematów `n_components`. \n",
    "Zbudujmy model szukający 10 tematów.\n",
    "\n",
    "Uwaga: wykonanie poniższej komórki  uruchamia proces szukania, który może zając kilka minut. W celu przyśpieszenia działania algorytmu można zmniejszyć liczbę dokumentów lub zmniejszyć ilość wyrazów w modelu worka słów, jednak spowoduje to pogorszenie jakości uzyskanego modelu oraz różnice w wynikach w stosunku do tego co opisane jest poniżej (powstaną inne grupy tematyczne)."
   ]
  },
  {
   "cell_type": "code",
   "execution_count": null,
   "metadata": {
    "scrolled": true
   },
   "outputs": [],
   "source": [
    "from sklearn.decomposition import LatentDirichletAllocation\n",
    "\n",
    "lda = LatentDirichletAllocation(n_components=10, random_state=42, verbose=1)\n",
    "\n",
    "X_topics = lda.fit_transform(X)"
   ]
  },
  {
   "cell_type": "markdown",
   "metadata": {
    "slideshow": {
     "slide_type": "slide"
    }
   },
   "source": [
    "### Tematy LDA\n",
    "\n",
    "Wynikiem transformacji LDA jest macierz `X_topics`, która zawiera tyle kolumn ile zdefiniowaliśmy tematów (`n_components=10`). \n",
    "Wartości w wierszu $i$-tym definiują prawdopodobieństwo tego, że $i$-ty dokument pochodzi z danego tematu. \n",
    "Zobaczmy jak wygląda wektor wartości `X_topic` dla pierwszej recenzji.\n"
   ]
  },
  {
   "cell_type": "code",
   "execution_count": null,
   "metadata": {},
   "outputs": [],
   "source": [
    "import matplotlib.pyplot as plt\n",
    "import numpy as np\n",
    "\n",
    "labels = np.arange(10) \n",
    "plt.bar(labels, X_topics[0, :])\n",
    "plt.xticks(labels)\n",
    "plt.xlabel('Tematy')\n",
    "plt.title('Recenzja nr=0')\n",
    "plt.show()"
   ]
  },
  {
   "cell_type": "markdown",
   "metadata": {},
   "source": [
    "Recenzja ta stanowi mieszankę 3 tematów, przy czym najbardziej prawdopodobny jest temat 5.\n",
    "\n",
    "Jak zdefiniowane są tematy? "
   ]
  },
  {
   "cell_type": "markdown",
   "metadata": {
    "slideshow": {
     "slide_type": "slide"
    }
   },
   "source": [
    "Zobaczmy jak wygląda przypisanie słów do poszczególnych tematów.\n",
    "Informacja ta zawarta jest w zmiennej `components_` obiektu LDA. Jest to macierz o liczbie wierszy odpowiadającej liczbie tematów oraz liczbie kolumn równej ilości wyrazów z worka słów. Wartości określają wagę każdego wyrazu w generowaniu tematu. \n",
    "\n",
    "Zobaczmy jakie są najistotniejsze wyrazy dla tematu 5. "
   ]
  },
  {
   "cell_type": "code",
   "execution_count": null,
   "metadata": {},
   "outputs": [],
   "source": [
    "topic_words = lda.components_[5, :]\n",
    "\n",
    "import pandas as pd\n",
    "import seaborn as sb\n",
    "\n",
    "wfd = pd.DataFrame( columns = ['word','weight'])\n",
    "wfd['word'] = count.get_feature_names_out()\n",
    "wfd['weight'] = lda.components_[5, :]\n",
    "wdf_sorted = wfd.sort_values(by=['weight'], ascending=False)\n",
    "wdf_sorted.head()\n",
    "\n",
    "best_words = wdf_sorted.iloc[:20]\n",
    "\n",
    "plt.figure(figsize=(15, 5))\n",
    "bar = sb.barplot(x=\"word\", y=\"weight\", data=best_words)\n",
    "bar.set_xticklabels(bar.get_xticklabels(), rotation=90);"
   ]
  },
  {
   "cell_type": "markdown",
   "metadata": {
    "slideshow": {
     "slide_type": "slide"
    }
   },
   "source": [
    "Zobaczmy jak zdefiniowane są wszystkie tematy. Wypiszmy 10 najważniejszych słów w każdej kategorii."
   ]
  },
  {
   "cell_type": "code",
   "execution_count": null,
   "metadata": {},
   "outputs": [],
   "source": [
    "n_top_words = 10\n",
    "\n",
    "feature_names = count.get_feature_names_out()\n",
    "\n",
    "for topic_idx, topic in enumerate(lda.components_):\n",
    "    print(\"Temat %d:\" % (topic_idx), end=' ')\n",
    "    sorted_ids = topic.argsort()[::-1]\n",
    "    print(\" \".join([feature_names[i] for i in sorted_ids[:10]]))"
   ]
  },
  {
   "cell_type": "markdown",
   "metadata": {
    "slideshow": {
     "slide_type": "slide"
    }
   },
   "source": [
    "Na podstawie przeczytania 10 najważniejszych słów dla każdego tematu możemy zgadywać jakie tematy odkrył LDA. Bardzo często taki temat będzie jednoznacznie związany z gatunkiem filmu. \n",
    "\n",
    "0. Seriale telewizyjne \n",
    "1. (Prawdopodobnie) filmy dokumentalne\n",
    "2. Komedie\n",
    "3. Ogólnie złe filmy (tak naprawdę nie jest to kategoria tematyczna)\n",
    "4. Filmy wojenne  \n",
    "5. Filmy akcji \n",
    "6. Filmy muzyczne\n",
    "7. Science fiction\n",
    "8. Filmy o tematyce rodzinnej\n",
    "9. Filmy historyczne/wojenne, adaptacje książek\n"
   ]
  },
  {
   "cell_type": "markdown",
   "metadata": {
    "slideshow": {
     "slide_type": "slide"
    }
   },
   "source": [
    "Aby potwierdzić, że kategorie mają sens na podstawie recenzji, wypiszmy recenzje 3 filmów z kategorii science fiction (kategoria 7):"
   ]
  },
  {
   "cell_type": "code",
   "execution_count": null,
   "metadata": {
    "scrolled": true
   },
   "outputs": [],
   "source": [
    "horror = X_topics[:, 7].argsort()[::-1]\n",
    "\n",
    "for iter_idx, movie_idx in enumerate(horror[:3]):\n",
    "    print('\\nRecenzja #%d:' % (iter_idx + 1))\n",
    "    print(X_train.values[movie_idx][:300], '...')"
   ]
  },
  {
   "cell_type": "markdown",
   "metadata": {},
   "source": [
    "Korzystając z powyższego przykładu kodu, wydrukowaliśmy pierwsze 300 znaków z 3 recenzji o największym przyporządkowaniu do kategorii 7. Pierwsza pozycja nie wydaje się filmem science-fiction ale pozostałe dwie jak najbardziej pasują to tej kategorii. Lepszą jakość grupowania można uzyskać budując model dla większej liczby dokumentów (tu wybraliśmy 10 tysięcy ze względu na długi czas obliczeń)."
   ]
  },
  {
   "cell_type": "markdown",
   "metadata": {
    "slideshow": {
     "slide_type": "slide"
    }
   },
   "source": [
    "## Zadanie: Wykrywanie fejków\n",
    "\n",
    "1. Korzystając ze zbioru danych [dane/news_train.csv.gz](dane/news_train.csv.gz) zbuduj model klasyfikacji służący do wykrywania fałszywych wiadomości. \n",
    "Zbiór treningowy zawiera 6000 wiadomości w języku angielskim oznaczonych etykietami  ``'REAL'`` (wiadomość prawdziwa) lub  ``'FAKE'`` (wiadmość nieprawdziwa). Możesz użyć dowolnej metody wektoryzacji z laboratorium (``CountVectorizer``, ``TfidfVectorizer`` lub ``HashingVectorizer``) oraz dowolnej metody klasyfikacji (np. kNN, SVM, drzewo decyzyjne, regresja logistyczna). Dobierz parametry modelu tak aby dawał jak najwyższą poprawność wykrywania fejków."
   ]
  },
  {
   "cell_type": "code",
   "execution_count": 33,
   "metadata": {},
   "outputs": [
    {
     "name": "stdout",
     "output_type": "stream",
     "text": [
      "max_df = 0.7, best C = 10, cross-val acc = 0.9300\n",
      "max_df = 0.9, best C = 10, cross-val acc = 0.9300\n",
      "\n",
      "Test accuracy: 0.9440\n"
     ]
    }
   ],
   "source": [
    "import pandas as pd\n",
    "from sklearn.model_selection import train_test_split, GridSearchCV\n",
    "from sklearn.feature_extraction.text import TfidfVectorizer\n",
    "from sklearn.linear_model import LogisticRegression\n",
    "from sklearn.metrics import accuracy_score\n",
    "\n",
    "df = pd.read_csv(r'C:\\Users\\yanlu\\Python\\DatMin\\lab-09-analiza-tekstu-yanlukashevich\\dane\\news_train.csv.gz', compression='gzip', encoding='utf-8')\n",
    "X = df['text']\n",
    "y = df['label']\n",
    "\n",
    "X_train_text, X_test_text, y_train, y_test = train_test_split(X, y, test_size=0.2, random_state=42)\n",
    "\n",
    "tfidf = TfidfVectorizer(stop_words='english')\n",
    "X_train = tfidf.fit_transform(X_train_text)\n",
    "X_test = tfidf.transform(X_test_text)\n",
    "\n",
    "lr = LogisticRegression(max_iter=1000)\n",
    "\n",
    "param_grid = {\n",
    "    'C': [0.01, 0.1, 1, 10],\n",
    "    'max_df': [0.7, 0.9]\n",
    "}\n",
    "\n",
    "best_score = 0\n",
    "best_model = None\n",
    "\n",
    "for max_df in param_grid['max_df']:\n",
    "    tfidf = TfidfVectorizer(stop_words='english', max_df=max_df)\n",
    "    X_train_vec = tfidf.fit_transform(X_train_text)\n",
    "    X_test_vec = tfidf.transform(X_test_text)\n",
    "\n",
    "    grid = GridSearchCV(LogisticRegression(max_iter=1000), {'C': param_grid['C']}, cv=5, scoring='accuracy')\n",
    "    grid.fit(X_train_vec, y_train)\n",
    "\n",
    "    print(f\"max_df = {max_df}, best C = {grid.best_params_['C']}, cross-val acc = {grid.best_score_:.4f}\")\n",
    "\n",
    "    if grid.best_score_ > best_score:\n",
    "        best_score = grid.best_score_\n",
    "        best_model = (grid.best_estimator_, tfidf)\n",
    "\n",
    "clf, tfidf = best_model\n",
    "X_test_vec = tfidf.transform(X_test_text)\n",
    "y_pred = clf.predict(X_test_vec)\n",
    "\n",
    "print(f\"\\nTest accuracy: {accuracy_score(y_test, y_pred):.4f}\")\n"
   ]
  },
  {
   "cell_type": "markdown",
   "metadata": {
    "slideshow": {
     "slide_type": "slide"
    }
   },
   "source": [
    "2. Oceń jakość modelu klasyfikacji zbudowanego w poprzednim punkcie wykorzystując zbiór testowy [dane/news_test.csv.gz](dane/news_test.csv.gz).  \n",
    "Wyznacz poprawność klasyfikacji oraz macierz pomyłek."
   ]
  },
  {
   "cell_type": "code",
   "execution_count": 35,
   "metadata": {},
   "outputs": [
    {
     "name": "stdout",
     "output_type": "stream",
     "text": [
      "Accuracy: 0.9378\n",
      "              precision    recall  f1-score   support\n",
      "\n",
      "        FAKE       0.93      0.95      0.94       668\n",
      "        REAL       0.95      0.93      0.94       667\n",
      "\n",
      "    accuracy                           0.94      1335\n",
      "   macro avg       0.94      0.94      0.94      1335\n",
      "weighted avg       0.94      0.94      0.94      1335\n",
      "\n"
     ]
    }
   ],
   "source": [
    "import pandas as pd\n",
    "from sklearn.metrics import accuracy_score, classification_report, confusion_matrix\n",
    "\n",
    "df_test = pd.read_csv(r'C:\\Users\\yanlu\\Python\\DatMin\\lab-09-analiza-tekstu-yanlukashevich\\dane\\news_test.csv.gz', compression='gzip', encoding='utf-8')\n",
    "X_final_test = df_test['text']\n",
    "y_final_test = df_test['label']\n",
    "\n",
    "X_final_test_vec = tfidf.transform(X_final_test)\n",
    "\n",
    "y_pred_final = clf.predict(X_final_test_vec)\n",
    "\n",
    "print(f\"Accuracy: {accuracy_score(y_final_test, y_pred_final):.4f}\")\n",
    "print(classification_report(y_final_test, y_pred_final))\n",
    "\n",
    "\n",
    "\n",
    "\n",
    "\n"
   ]
  },
  {
   "cell_type": "markdown",
   "metadata": {},
   "source": [
    "3. Weź najświeższą wiadomość ze strony CNN https://lite.cnn.com/ i wykorzystaj uzyskany model do odpowiedzi na pytanie, czy treść wiadomości jest prawdziwa czy nie? "
   ]
  },
  {
   "cell_type": "code",
   "execution_count": null,
   "metadata": {},
   "outputs": [
    {
     "name": "stdout",
     "output_type": "stream",
     "text": [
      "Model ocenił wiadomość jako: REAL\n"
     ]
    }
   ],
   "source": [
    "news = \"\"\"Trump feared a fight with Musk could undermine his signature bill. Then their feud erupted\n",
    "By Phil Mattingly, CNN\n",
    "\n",
    "Updated: 4:40 PM EDT, Fri June 6, 2025\n",
    "\n",
    "Source: CNN\n",
    "\n",
    "The staggering and exceedingly public rupture in the world’s most consequential and unprecedented partnership was a long time coming. But the surreal state of suspended animation that consumed Washington as President Donald Trump and Elon Musk traded escalating blows on social media obscured a 48-hour period that illustrated profoundly high-stakes moment for the White House.\n",
    "\n",
    "Trump’s entire economic agenda is sitting on a knife’s edge. Its most critical components are running up against deadlines and locked in a series of complex negotiations with limited margin for error.\n",
    "\n",
    "In two days, Musk managed to undercut, attack or inflame just about all of it.\n",
    "\n",
    "“He’s kind of been a ticking time bomb for a while now,” one person familiar with Musk’s unique and unprecedented role in the White House told CNN. “But this is, and has always been, so much bigger than him and explains why we ended here after the last few days.”\n",
    "\n",
    "Musk was never a key player on Trump’s economic team and wasn’t involved in drafting the agenda or at the table for the implementation efforts that launched when Trump entered office. Musk had scrapped with Peter Navarro, Trump’s top trade adviser, and Treasury Secretary Scott Bessent and had worn out his welcome in the power centers of the administration, multiple senior officials told CNN.\n",
    "\n",
    "But the billionaire’s rolling and increasingly scorched-earth attacks on Trump’s sweeping tax and spending package this week posed an acute threat to the cornerstone of Trump’s legislative agenda.\n",
    "\n",
    "Trump stays (mostly) quiet\n",
    "For all the ways Trump’s tariff-centric economic approach has created chaos and uncertainty across the global financial system, the underlying data has continued to show the US economy in a stable and resilient place. But Trump and his top economic officials are in the midst of a high-wire act to maintain and, ultimately, they say, dramatically accelerate US economic growth.\n",
    "\n",
    "Musk’s tirade served as the backdrop of Trump’s critical meeting with key Republican senators on Wednesday afternoon, irritating White House advisers trying to balance the House-passed version of the “One Big Beautiful Bill” and competing Senate priorities.\n",
    "\n",
    "Musk’s stream of consciousness attacks centered on the deficit projections tied to the bill, which economic scorekeepers universally agree will pile trillions onto the soaring US debt over a decade. The White House has insisted the bill will pay for itself – and has rapidly accelerated its messaging efforts to rebut any analysis that says otherwise to mollify fiscal hawks on Capitol Hill.\n",
    "\n",
    "Yet Trump held his fire, in part because of an effort to avoid an escalation that would trigger Musk to declare all-out war against Republican lawmakers weighing the future of a bill essential to his entire agenda, according to two White House officials.\n",
    "\n",
    "On Thursday, as he weighed in on it during press spray with German Chancellor Friedrich Merz ahead of their private meetings that were heavily focused on trade and the economy, Musk’s real-time reaction took it there anyway.\n",
    "\n",
    "By the time Speaker Mike Johnson arrived at the White House for his own meetings, an all-out war had broken out between the two and included Musk taking a clear swipe Trump’s tariffs.\n",
    "\n",
    "Johnson was with Trump in the Oval Office watching in real time as Musk declared the equivalent of social media nuclear war. Johnson, who deftly navigated his miniscule minority to get Trump’s “One Big Beautiful Bill” through the House, is an essential player during the Senate effort that threatens to crack the fragile compromise between House conservatives and more moderate members.\n",
    "\n",
    "He’s urged Musk to de-escalate, traded texts with him and repeatedly defended the bill from his attacks to reporters.\n",
    "\n",
    "Trump threatened the government contracts of Musk’s business empire Thursday and placed a round of calls to reporters on Friday morning that focused primarily on making public there would be no call between the two men, despite efforts by allies to arrange the start of a peace process. There’s now talk of selling the Tesla that Musk brought to the White House, one White House official said.\n",
    "\n",
    "But Trump again chose not to engage on the issue throughout the rest of the day. There were no social media posts about Musk. A scheduled swearing in and signing of an executive order were also closed to the press.\n",
    "\n",
    "In part, Trump didn’t want to completely crowd out a morning of good economic news, according to a person familiar with the matter. But Trump has also told Republican lawmakers he understands how difficult Musk can make the path ahead in their legislative efforts. He’s made clear, repeatedly, that he thinks Musk has “gone completely crazy,” according to one lawmaker, and is cognizant of the pressure on his House and Senate allies.\n",
    "\n",
    "Musk poses a real threat\n",
    "Musk’s attacks, and his political threats to the same lawmakers who depended on his deep pockets in 2024 and planned to rely on them again in the midterm elections, undeniably add yet another complication to a moment defined by uncertainty.\n",
    "\n",
    "He has also amped up his rhetoric against Trump’s tariffs – another cornerstone of the administration’s economic agenda – at a volatile and critical moment in a dozens of complex and fluid negotiations. The second US-China bilateral trade talks, which were set in motion during Trump’s call with Xi, will take place on June 9 in London, Trump announced Friday.\n",
    "\n",
    "Trump’s economic team has dismissed Musk’s tariff attacks, saying his opposition is well known and his argument is undercut by current economic data and Trump’s first term tariffs.\n",
    "\n",
    "“We can have disagreements about it, but I would simply say that everybody during our first term who said that the tariffs were going to be recessionary and inflationary were obviously, obviously and widely wrong,” Navarro told reporters on Thursday.\n",
    "\n",
    "The sweeping price increases predicted in the wake of Trump’s market rattling April 2 “Liberation Day” announcement haven’t emerged and economic activity remains durable despite pervasive pessimism in consumer and business sentiment surveys. The May jobs report Friday showed another month of steady job growth outpacing expectations. That has provided ample evidence for White House officials to dismiss outright concerns that the survey data is a leading indicator for turmoil to come.\n",
    "\n",
    "Still, Musk holds some important tools in his shed if he wanted to undermine Trump’s tariff agenda – although it’s not yet clear that is is considering using them. For example, many foreign governments have sought to sign contracts with Musk’s Starlink service, which some diplomats have told CNN was viewed as helpful to trade talks.\n",
    "\n",
    "‘Full steam ahead’\n",
    "White House officials insist Musk’s dramatic turn against Trump and the cornerstone of his legislative agenda won’t ultimately move the needle as lawmakers grind through the most critical stage for the bill.\n",
    "\n",
    "“We’re full steam ahead, moving forward,” Office of Management and Budget Director Russell Vought said Thursday on CNN News Central.\n",
    "\n",
    "Their arguments in favor, but more importantly the alternative if it fails – a sweeping $4 trillion tax cut due to the expiration of the individual tax cuts in Trump’s 2017 law that expire at the end of the year – will ultimately get it over the finish line, officials say.\n",
    "\n",
    "Trump needs this bill to pass. His economic agenda was always predicated on its sweeping package of tax cuts and incentives even as much as Trump’s expansive tariff regime, which was designed to re-orient the global trading system, incentivize massive investment in the US, secure substantial market access for US firms and drive significant new revenues into the federal coffers.\n",
    "\n",
    "Senate Republicans spent this week grappling with the complex balancing act of merging their priorities with the House version of Trump’s tax cuts and incentives package – a bill that passed by a single vote. The Trump-backed deadline of July 4th to sign the bill, which was always aspirational at best, is now widely understood to be impossible, according to three senior GOP senate aides.\n",
    "\n",
    "Congressional Republicans, many of whom had also grown annoyed with Musk over the last few months, have largely dismissed the billionaire’s fiery opposition to the bill.\n",
    "\n",
    "But the fiscal hawks seeking deeper spending cuts have started to utilize an ally that has already demonstrated a bank account and social media company that carry with them the kind of power and reach without much modern precedent.\n",
    "\n",
    "White House officials are united in their confidence they can navigate the exceedingly tight timeline, complexity and whip counts ahead. But even they implicitly nod to a deeply uncertain reality when asked for their own economic forecasts.\n",
    "\n",
    "“It’s hard to give a very precise forecast for growth, because we have yet to see exactly how the tax bill shapes up between the reconciliation process, between the House and the Senate,” said Stephen Miran, Council of Economic Advisors Chairman, on CNBC Friday. “And we have yet to see exactly how the trade deal shape up as they as they will, I expect, continue to be made in coming weeks, so it’s hard to give a precise forecast when the policy details are still being worked out.”\n",
    "\n",
    "Musk wasn’t as cautious with his own forecast the afternoon prior.\n",
    "\n",
    "“The Trump tariffs will cause a recession in the second half of this year,” Musk posted.\"\"\"\n",
    "\n",
    "news_vec = tfidf.transform([news])\n",
    "\n",
    "prediction = clf.predict(news_vec)[0]\n",
    "\n",
    "print(f\"Model ocenił wiadomość jako: {prediction}\")"
   ]
  }
 ],
 "metadata": {
  "celltoolbar": "Slideshow",
  "kernelspec": {
   "display_name": "Python 3 (ipykernel)",
   "language": "python",
   "name": "python3"
  },
  "language_info": {
   "codemirror_mode": {
    "name": "ipython",
    "version": 3
   },
   "file_extension": ".py",
   "mimetype": "text/x-python",
   "name": "python",
   "nbconvert_exporter": "python",
   "pygments_lexer": "ipython3",
   "version": "3.12.7"
  },
  "toc": {
   "base_numbering": 1,
   "nav_menu": {},
   "number_sections": true,
   "sideBar": true,
   "skip_h1_title": false,
   "title_cell": "Table of Contents",
   "title_sidebar": "Contents",
   "toc_cell": true,
   "toc_position": {},
   "toc_section_display": true,
   "toc_window_display": false
  },
  "varInspector": {
   "cols": {
    "lenName": 16,
    "lenType": 16,
    "lenVar": 40
   },
   "kernels_config": {
    "python": {
     "delete_cmd_postfix": "",
     "delete_cmd_prefix": "del ",
     "library": "var_list.py",
     "varRefreshCmd": "print(var_dic_list())"
    },
    "r": {
     "delete_cmd_postfix": ") ",
     "delete_cmd_prefix": "rm(",
     "library": "var_list.r",
     "varRefreshCmd": "cat(var_dic_list()) "
    }
   },
   "types_to_exclude": [
    "module",
    "function",
    "builtin_function_or_method",
    "instance",
    "_Feature"
   ],
   "window_display": false
  }
 },
 "nbformat": 4,
 "nbformat_minor": 4
}
